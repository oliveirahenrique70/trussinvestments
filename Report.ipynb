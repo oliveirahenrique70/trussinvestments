{
 "cells": [
  {
   "cell_type": "markdown",
   "metadata": {},
   "source": [
    "<center><h1> Truss Investment </h1></center>\n",
    "<center><h1> Trades Data Analysis Report</h1></center>\n",
    "  \n",
    "### February 2021 \n",
    "---"
   ]
  },
  {
   "cell_type": "markdown",
   "metadata": {
    "ExecuteTime": {
     "end_time": "2021-02-04T11:56:35.730948Z",
     "start_time": "2021-02-04T11:56:35.716974Z"
    }
   },
   "source": [
    "## Report Summary \n",
    "\n",
    "[Introduction](#Introduction)\n",
    "\n",
    "[Trades Data Table](#Trades-Data-Table)\n",
    "\n",
    "[Receipt Data Table](#Receipt-Data-Table)\n",
    "\n",
    "---"
   ]
  },
  {
   "cell_type": "markdown",
   "metadata": {},
   "source": [
    "## Introduction\n",
    "\n",
    "This report will analyze the Truss Investments trades executed during the period from July 2020 to February 2021. \n",
    "\n",
    "This report is **interactive**. Therefore, you are allowed to make multiple analysis using filters to selects specific data to examine.\n",
    "\n",
    "The report can display these financial variables results of the trades:\n",
    "\n",
    "* Hold Position (*Hold Pos*)\n",
    "* Market to Market Profit and Loss (*MtoM P&L*)\n",
    "* Gross Profit and Loss (*Gross P&L*)\n",
    "* Comm\n",
    "* Avarege Weekly Traded Volume (*ADV*)\n",
    "* Exange Fee (*Exc Fee*)\n",
    "* Net Profit and Loss (*Net P&L*)\n",
    "\n",
    "The trades available for the analysis are:\n",
    "\n",
    "### S&P 500\n",
    "* ISP - Futuro de S&P 500 com Liquidação Financeira Referenciada ao Preço do S&P 500 do CME Group\n",
    "* WSP - Microcontrato Futuro de S&P 500 com Liquidação Financeira Referenciada ao Preço do S&P 500 do CME Group\n",
    "\n",
    "### Ibovespa\n",
    "* IND - Futuro de Ibovespa\n",
    "* WIN - Futuro Mini de Ibovespa\n",
    "\n",
    "### Dollar\n",
    "* DOL - Futuro de Reais por Dólar Comercial\n",
    "* WDO - Futuro Míni de Reais por Dólar Comercial "
   ]
  },
  {
   "cell_type": "code",
   "execution_count": 29,
   "metadata": {
    "ExecuteTime": {
     "end_time": "2021-02-25T16:51:57.803742Z",
     "start_time": "2021-02-25T16:51:57.798755Z"
    }
   },
   "outputs": [],
   "source": [
    "# Load libraries\n",
    "import glob\n",
    "import pandas as pd\n",
    "import ipywidgets as widgets\n",
    "from ipywidgets import Layout\n",
    "from IPython.display import clear_output, display, HTML\n",
    "import datetime as dt\n",
    "from datetime import datetime\n",
    "from datetime import date\n",
    "\n",
    "# Supress warning\n",
    "pd.options.mode.chained_assignment = None\n",
    "\n",
    "# Display all rows\n",
    "pd.set_option('display.max_rows', 500)\n",
    "\n",
    "# Display options\n",
    "pd.set_option('display.float_format', lambda x: '%.3f' % x)"
   ]
  },
  {
   "cell_type": "code",
   "execution_count": 30,
   "metadata": {
    "ExecuteTime": {
     "end_time": "2021-02-25T16:51:57.975430Z",
     "start_time": "2021-02-25T16:51:57.804739Z"
    }
   },
   "outputs": [],
   "source": [
    "# Create functions\n",
    "def color_negative_red(val):\n",
    "    color = 'red' if val < 0 else 'black'\n",
    "    return 'color: %s' % color"
   ]
  },
  {
   "cell_type": "code",
   "execution_count": 31,
   "metadata": {
    "ExecuteTime": {
     "end_time": "2021-02-25T16:51:58.070360Z",
     "start_time": "2021-02-25T16:51:57.982352Z"
    }
   },
   "outputs": [],
   "source": [
    "# Get files names\n",
    "all_files = glob.glob('*.csv')\n",
    "\n",
    "# Remove two first values\n",
    "all_files = all_files[-2:]\n",
    "\n",
    "# Create list of dfs\n",
    "list_of_dfs = [pd.read_csv(filename, index_col=None, error_bad_lines=False, sep=',') for filename in all_files]"
   ]
  },
  {
   "cell_type": "markdown",
   "metadata": {
    "ExecuteTime": {
     "end_time": "2021-02-18T11:38:37.941791Z",
     "start_time": "2021-02-18T11:38:37.864677Z"
    }
   },
   "source": [
    "---\n",
    "\n",
    "## Trades Data Table\n",
    "\n",
    "A visualization of the trades data table will begin the data analysis part of the report. Use the following filters to select which operation and financial variable from the trade you want to exam.\n",
    "\n",
    "Initially, you need to chose the trade and period you want to analize.\n",
    "\n",
    "### Select trade:"
   ]
  },
  {
   "cell_type": "code",
   "execution_count": 32,
   "metadata": {
    "ExecuteTime": {
     "end_time": "2021-02-25T16:51:58.147540Z",
     "start_time": "2021-02-25T16:51:58.073296Z"
    }
   },
   "outputs": [
    {
     "data": {
      "application/vnd.jupyter.widget-view+json": {
       "model_id": "ec47438741b2423ca339a5bbcade8f26",
       "version_major": 2,
       "version_minor": 0
      },
      "text/plain": [
       "Dropdown(description='Trade:', options=('ISPH21', 'WSPH21'), value='ISPH21')"
      ]
     },
     "metadata": {},
     "output_type": "display_data"
    }
   ],
   "source": [
    "# Create trades dropdown menu\n",
    "tradesmenu = widgets.Dropdown(\n",
    "    options=['DOLG21','DOLQ20','DOLU20','INDG21','INDJ21','ISPH21','ISPM21','ISPU20','ISPZ20','WDOF21','WDOG21','WDOQ20','WDOU20','WSPH21','WSPU20','WSPZ20'],\n",
    "    value='ISPH21',\n",
    "    description='Trade:',\n",
    "    disabled=False,\n",
    ")\n",
    "\n",
    "# Print tradesmenu\n",
    "display(tradesmenu)"
   ]
  },
  {
   "cell_type": "markdown",
   "metadata": {},
   "source": [
    "### Select period:"
   ]
  },
  {
   "cell_type": "code",
   "execution_count": 33,
   "metadata": {
    "ExecuteTime": {
     "end_time": "2021-02-25T16:51:58.255560Z",
     "start_time": "2021-02-25T16:51:58.148537Z"
    }
   },
   "outputs": [
    {
     "data": {
      "application/vnd.jupyter.widget-view+json": {
       "model_id": "774b890fb27a4b99823a765dedf5040a",
       "version_major": 2,
       "version_minor": 0
      },
      "text/plain": [
       "DatePicker(value=datetime.date(2020, 7, 1), description='Start:')"
      ]
     },
     "metadata": {},
     "output_type": "display_data"
    },
    {
     "data": {
      "application/vnd.jupyter.widget-view+json": {
       "model_id": "62d05e030ba44146a1b72154296813c2",
       "version_major": 2,
       "version_minor": 0
      },
      "text/plain": [
       "DatePicker(value=datetime.date(2021, 2, 25), description='End:')"
      ]
     },
     "metadata": {},
     "output_type": "display_data"
    }
   ],
   "source": [
    "# Get start and end date\n",
    "today = date.today()\n",
    "begin_date = dt.datetime(2020, 7, 1).date()\n",
    "\n",
    "# Create begin date picker\n",
    "begin_trade = widgets.DatePicker(description='Start:',\n",
    "                                 value = begin_date)\n",
    "\n",
    "# Create end date picker\n",
    "end_trade = widgets.DatePicker(description='End:',\n",
    "                               value = today)\n",
    "\n",
    "# Display date \n",
    "display(begin_trade, end_trade)"
   ]
  },
  {
   "cell_type": "markdown",
   "metadata": {},
   "source": [
    "Now, select the type of operation you want to analyse.\n",
    "\n",
    "### Select operation:"
   ]
  },
  {
   "cell_type": "code",
   "execution_count": 34,
   "metadata": {
    "ExecuteTime": {
     "end_time": "2021-02-25T16:51:58.363485Z",
     "start_time": "2021-02-25T16:51:58.256558Z"
    }
   },
   "outputs": [
    {
     "data": {
      "application/vnd.jupyter.widget-view+json": {
       "model_id": "147405f95423448f89beafee8a3311c9",
       "version_major": 2,
       "version_minor": 0
      },
      "text/plain": [
       "HBox(children=(Checkbox(value=False, description='Buy Quant', indent=False), Checkbox(value=False, description…"
      ]
     },
     "metadata": {},
     "output_type": "display_data"
    }
   ],
   "source": [
    "data = [\"Buy Quant\", \"Buy Price\", \"Sell Quant\", \"Sell Price\", \"Px Close\"]\n",
    "checkboxes_operation = [widgets.Checkbox(value=False, indent=False, description=label) for label in data]\n",
    "hbox_operation = widgets.HBox(children=checkboxes_operation, layout=Layout(width='500px'))\n",
    "display(hbox_operation)"
   ]
  },
  {
   "cell_type": "markdown",
   "metadata": {},
   "source": [
    "### Select financial:"
   ]
  },
  {
   "cell_type": "code",
   "execution_count": 35,
   "metadata": {
    "ExecuteTime": {
     "end_time": "2021-02-25T16:51:58.582269Z",
     "start_time": "2021-02-25T16:51:58.364482Z"
    }
   },
   "outputs": [
    {
     "data": {
      "application/vnd.jupyter.widget-view+json": {
       "model_id": "615a10ad096649fc922c05bebd8619f2",
       "version_major": 2,
       "version_minor": 0
      },
      "text/plain": [
       "HBox(children=(Checkbox(value=False, description='Hold Pos', indent=False), Checkbox(value=False, description=…"
      ]
     },
     "metadata": {},
     "output_type": "display_data"
    }
   ],
   "source": [
    "data = [\"Hold Pos\", \"MtoM P&L\", \"Gross P&L\", \"Comm\", \"Exc Fee\", \"Net P&L\"]\n",
    "checkboxes_financial = [widgets.Checkbox(value=False, indent=False, description=label) for label in data]\n",
    "hbox_financial = widgets.HBox(children=checkboxes_financial, layout=Layout(width='600px'))\n",
    "display(hbox_financial)"
   ]
  },
  {
   "cell_type": "markdown",
   "metadata": {},
   "source": [
    "Click on the buttons to submmit or clean the trades **data table**:"
   ]
  },
  {
   "cell_type": "code",
   "execution_count": 36,
   "metadata": {
    "ExecuteTime": {
     "end_time": "2021-02-25T16:51:58.690854Z",
     "start_time": "2021-02-25T16:51:58.584232Z"
    }
   },
   "outputs": [
    {
     "data": {
      "application/vnd.jupyter.widget-view+json": {
       "model_id": "def02b15531240aa94f47d31f6fa0393",
       "version_major": 2,
       "version_minor": 0
      },
      "text/plain": [
       "HBox(children=(Button(button_style='success', description='Submmit', icon='check', style=ButtonStyle(), toolti…"
      ]
     },
     "metadata": {},
     "output_type": "display_data"
    }
   ],
   "source": [
    "# Create button and output\n",
    "button_trade = widgets.Button(\n",
    "    description='Submmit',\n",
    "    tooltip = 'OK',\n",
    "    icon='check',\n",
    "    button_style = 'success')\n",
    "\n",
    "# Create button output\n",
    "output_trade = widgets.Output()\n",
    "\n",
    "# Create button and output\n",
    "button_trade_clean = widgets.Button(\n",
    "    description='Clean',\n",
    "    tooltip = 'OK',\n",
    "    icon='remove',\n",
    "    button_style = 'danger')\n",
    "\n",
    "# Create button output\n",
    "output_trade_clean = widgets.Output()\n",
    "\n",
    "# Unite buttons\n",
    "ui = widgets.HBox([button_trade, button_trade_clean])\n",
    "\n",
    "# Diplay buttons\n",
    "display(ui)"
   ]
  },
  {
   "cell_type": "code",
   "execution_count": 37,
   "metadata": {
    "ExecuteTime": {
     "end_time": "2021-02-25T16:51:58.768003Z",
     "start_time": "2021-02-25T16:51:58.692847Z"
    }
   },
   "outputs": [
    {
     "data": {
      "application/vnd.jupyter.widget-view+json": {
       "model_id": "f4270f50bf7040e491e54ff334a62ff1",
       "version_major": 2,
       "version_minor": 0
      },
      "text/plain": [
       "Output()"
      ]
     },
     "metadata": {},
     "output_type": "display_data"
    },
    {
     "data": {
      "application/vnd.jupyter.widget-view+json": {
       "model_id": "286251a255f24e90873e2995b0a0196b",
       "version_major": 2,
       "version_minor": 0
      },
      "text/plain": [
       "Output()"
      ]
     },
     "metadata": {},
     "output_type": "display_data"
    }
   ],
   "source": [
    "# Button clicked output\n",
    "display(output_trade, output_trade_clean)\n",
    "\n",
    "# Fixede variables\n",
    "fixed = ['Date', 'Ticker']\n",
    "\n",
    "# Create button clicked function\n",
    "def trade_on_clicked(b):  \n",
    "    with output_trade:\n",
    "        \n",
    "        # Clean output\n",
    "        clear_output()\n",
    "        \n",
    "        # Create selected_data list\n",
    "        selected_data = []\n",
    "        \n",
    "        # Add fixed variables\n",
    "        selected_data = selected_data + fixed\n",
    "        \n",
    "         # If loop\n",
    "        if tradesmenu.value == 'ISPU20':\n",
    "            trades = 1\n",
    "        \n",
    "        if tradesmenu.value == 'DOLQ20':\n",
    "            trades = 2\n",
    "            \n",
    "        if tradesmenu.value == 'DOLU20':\n",
    "            trades = 4\n",
    "            \n",
    "        if tradesmenu.value == 'INDG21':\n",
    "            trades = 0\n",
    "            \n",
    "        if tradesmenu.value == 'INDJ21':\n",
    "            trades = 3\n",
    "            \n",
    "        if tradesmenu.value == 'ISPM21':\n",
    "            trades = 5\n",
    "        \n",
    "        if tradesmenu.value == 'WDOU20':\n",
    "            trades = 6\n",
    "        \n",
    "        if tradesmenu.value == 'WSPH21':\n",
    "            trades = 7\n",
    "        \n",
    "        if tradesmenu.value == 'ISPH21':\n",
    "            trades = 9\n",
    "        \n",
    "        if tradesmenu.value == 'WDOQ20':\n",
    "            trades = 10\n",
    "        \n",
    "        if tradesmenu.value == 'WDOF21':\n",
    "            trades = 11\n",
    "        \n",
    "        if tradesmenu.value == 'WSPZ20':\n",
    "            trades = 12\n",
    "        \n",
    "        if tradesmenu.value == 'WDOG21':\n",
    "            trades = 13\n",
    "        \n",
    "        if tradesmenu.value == 'WSPU20':\n",
    "            trades = 14\n",
    "        \n",
    "        if tradesmenu.value == 'ISPZ20':\n",
    "            trades = 15\n",
    "        \n",
    "        if tradesmenu.value == 'DOLG21':\n",
    "            trades = 16\n",
    "            \n",
    "        # Loop operation filter\n",
    "        for i in range(0, len(checkboxes_operation)):\n",
    "                if checkboxes_operation[i].value == True:\n",
    "                    selected_data = selected_data + [checkboxes_operation[i].description]\n",
    "        \n",
    "        # Loop financial filter\n",
    "        for j in range(0, len(checkboxes_financial)):\n",
    "                if checkboxes_financial[j].value == True:\n",
    "                    selected_data = selected_data + [checkboxes_financial[j].description]\n",
    "                                    \n",
    "        # Create dataframe\n",
    "        df = list_of_dfs[trades]\n",
    "        \n",
    "        # Round values\n",
    "        df = df.round({'Px Close':2, 'Sell Price':2, 'Buy Price': 2, 'Exc Fee':2, 'MtoM P&L':2, 'Gross P&L': 2, 'Net P&L': 2, 'Comm': 2})\n",
    "        \n",
    "        # Change columns type\n",
    "        df = df.astype({'Sell Quant': int, 'Buy Quant': int, 'Hold Pos': int})\n",
    "        \n",
    "        # Filter data\n",
    "        df = df[selected_data] \n",
    "               \n",
    "        # Transform into date type\n",
    "        df['Date'] = pd.to_datetime(df['Date'], format='%d/%m/%Y')\n",
    "        \n",
    "        # Apply filter\n",
    "        df = df[(df['Date'] >= pd.Timestamp(begin_trade.value)) &  (df['Date'] <= pd.Timestamp(end_trade.value))]   \n",
    "        \n",
    "        # Sort by date\n",
    "        df = df.sort_values(by = 'Date')\n",
    "        \n",
    "        # Refine date\n",
    "        df['Date'] = df['Date'].dt.strftime('%d/%m/%Y')\n",
    "\n",
    "        # Reset index\n",
    "        df = df.reset_index(drop = True)\n",
    "        \n",
    "        # Create red columns vactor\n",
    "        red_col = ['MtoM P&L' , 'Gross P&L', 'Net P&L', 'Hold Pos']\n",
    "       \n",
    "        # Create auxiliar variable\n",
    "        aux = []\n",
    "        \n",
    "        # Loop to define red columns\n",
    "        for i in range(0,len(red_col)):\n",
    "            if(red_col[i] in df.columns):\n",
    "                aux.append(red_col[i])\n",
    "        if aux == []:\n",
    "            \n",
    "            # Print result (without red columns)\n",
    "            display(df.style.set_precision(2))\n",
    "            \n",
    "        else:\n",
    "            \n",
    "            # Print result (with red columns)\n",
    "            display(df.style.applymap(color_negative_red, subset=pd.IndexSlice[:, aux]).set_precision(2))\n",
    "            \n",
    "# Create clean button function\n",
    "def trade_clean_on_clicked(b):  \n",
    "    with output_trade_clean:\n",
    "        \n",
    "        # Clean output\n",
    "        output_trade.clear_output()"
   ]
  },
  {
   "cell_type": "code",
   "execution_count": 38,
   "metadata": {
    "ExecuteTime": {
     "end_time": "2021-02-25T16:51:58.861590Z",
     "start_time": "2021-02-25T16:51:58.768715Z"
    }
   },
   "outputs": [],
   "source": [
    "# On button click\n",
    "button_trade.on_click(trade_on_clicked)\n",
    "button_trade_clean.on_click(trade_clean_on_clicked)"
   ]
  },
  {
   "cell_type": "markdown",
   "metadata": {},
   "source": [
    "---\n",
    "\n",
    "## Receipt Data Table\n",
    "\n",
    "### Select period:"
   ]
  },
  {
   "cell_type": "code",
   "execution_count": 39,
   "metadata": {
    "ExecuteTime": {
     "end_time": "2021-02-25T16:51:58.938836Z",
     "start_time": "2021-02-25T16:51:58.862590Z"
    }
   },
   "outputs": [
    {
     "data": {
      "application/vnd.jupyter.widget-view+json": {
       "model_id": "a369db3904374167ab24daedcf6017ba",
       "version_major": 2,
       "version_minor": 0
      },
      "text/plain": [
       "DatePicker(value=datetime.date(2020, 7, 1), description='Start:')"
      ]
     },
     "metadata": {},
     "output_type": "display_data"
    },
    {
     "data": {
      "application/vnd.jupyter.widget-view+json": {
       "model_id": "ab04ce84b1c6404ea525c41ae246d1fa",
       "version_major": 2,
       "version_minor": 0
      },
      "text/plain": [
       "DatePicker(value=datetime.date(2021, 2, 25), description='End:')"
      ]
     },
     "metadata": {},
     "output_type": "display_data"
    }
   ],
   "source": [
    "# Create begin date picker\n",
    "begin_receipt = widgets.DatePicker(\n",
    "        description='Start:',\n",
    "        value = begin_date,\n",
    "        disabled=False)\n",
    "\n",
    "# Create end date picker\n",
    "end_receipt = widgets.DatePicker(\n",
    "      description='End:',\n",
    "      value = today,\n",
    "      disabled=False)\n",
    "\n",
    "# Display date filter \n",
    "display(begin_receipt, end_receipt)"
   ]
  },
  {
   "cell_type": "markdown",
   "metadata": {},
   "source": [
    "Click on the buttons to submmit or clean the receipt **data table**:"
   ]
  },
  {
   "cell_type": "code",
   "execution_count": 46,
   "metadata": {
    "ExecuteTime": {
     "end_time": "2021-02-25T16:53:20.911204Z",
     "start_time": "2021-02-25T16:53:20.886279Z"
    }
   },
   "outputs": [],
   "source": [
    "# Read data\n",
    "receipt = pd.read_csv('Dataset_Recibos_and_TX.csv', sep =';')\n",
    "\n",
    "# Fill missing values \n",
    "receipt['Description'].fillna('-', inplace=True)\n",
    "receipt = receipt.fillna(0)\n",
    "\n",
    "# Create Nota BM&F cumulative sum\n",
    "receipt['Nota BM&F Cum Sum'] = receipt['Nota BM&F'].cumsum()\n",
    "receipt['FX Value Cum Sum'] = receipt['FX Value'].cumsum()\n",
    "\n",
    "# Create Settlement cumulative sum\n",
    "receipt['Settlement Cum Sum'] = receipt['Nota BM&F'].shift(1)\n",
    "receipt['Settlement Cum Sum'] = receipt['Settlement Cum Sum'].fillna(0) + receipt['FX Value']\n",
    "receipt['Settlement Cum Sum'] = receipt['Settlement Cum Sum'].cumsum()\n",
    "\n",
    "# Create total vector\n",
    "receipt['Total Cum Sum'] = receipt['Nota BM&F'] + receipt['FX Value']\n",
    "\n",
    "# Apply cumulative sum to total vector\n",
    "receipt['Total Cum Sum'] = receipt['Total Cum Sum'].cumsum()\n",
    "\n",
    "# Create cum sum variance\n",
    "#receipt['Total Cum Sum Var'] = abs((receipt['Total Cum Sum'] .pct_change()) * 100)\n"
   ]
  },
  {
   "cell_type": "code",
   "execution_count": 41,
   "metadata": {
    "ExecuteTime": {
     "end_time": "2021-02-25T16:51:59.158780Z",
     "start_time": "2021-02-25T16:51:59.066000Z"
    }
   },
   "outputs": [
    {
     "data": {
      "application/vnd.jupyter.widget-view+json": {
       "model_id": "98f92f688380441188736749310f4e3f",
       "version_major": 2,
       "version_minor": 0
      },
      "text/plain": [
       "HBox(children=(Button(button_style='success', description='Submmit', icon='check', style=ButtonStyle(), toolti…"
      ]
     },
     "metadata": {},
     "output_type": "display_data"
    }
   ],
   "source": [
    "# Create button and output\n",
    "button_receipt = widgets.Button(description='Submmit',\n",
    "                                tooltip = 'OK',\n",
    "                                icon='check',\n",
    "                                button_style = 'success')\n",
    "\n",
    "# Create button output\n",
    "output_receipt = widgets.Output()\n",
    "\n",
    "# Create button and output\n",
    "button_receipt_clean = widgets.Button(description='Clean',\n",
    "                                      tooltip = 'OK',\n",
    "                                      icon='remove',\n",
    "                                      button_style = 'danger')\n",
    "\n",
    "# Create button output\n",
    "output_receipt_clean = widgets.Output()\n",
    "\n",
    "# Unite buttons\n",
    "ui = widgets.HBox([button_receipt, button_receipt_clean])\n",
    "\n",
    "# Diplay buttons\n",
    "display(ui)"
   ]
  },
  {
   "cell_type": "code",
   "execution_count": 44,
   "metadata": {
    "ExecuteTime": {
     "end_time": "2021-02-25T16:52:32.046198Z",
     "start_time": "2021-02-25T16:52:32.032237Z"
    }
   },
   "outputs": [
    {
     "data": {
      "application/vnd.jupyter.widget-view+json": {
       "model_id": "d95f3c8177c3406ca3a0d20211c050b9",
       "version_major": 2,
       "version_minor": 0
      },
      "text/plain": [
       "Output()"
      ]
     },
     "metadata": {},
     "output_type": "display_data"
    },
    {
     "data": {
      "application/vnd.jupyter.widget-view+json": {
       "model_id": "d649abbb06e049b9864fc4e00564d7bc",
       "version_major": 2,
       "version_minor": 0
      },
      "text/plain": [
       "Output()"
      ]
     },
     "metadata": {},
     "output_type": "display_data"
    }
   ],
   "source": [
    "# Button clicked output\n",
    "display(output_receipt, output_receipt_clean)\n",
    "\n",
    "# Create button clicked function\n",
    "def receipt_on_click(b):\n",
    "    with output_receipt:\n",
    "        \n",
    "        # Clean output\n",
    "        clear_output()\n",
    "        \n",
    "        # Create receipt dataframe\n",
    "        df = receipt\n",
    "        \n",
    "        # Transform into date type\n",
    "        df['Date'] = pd.to_datetime(df['Date'], format='%d/%m/%Y')\n",
    "        \n",
    "        # Apply filter\n",
    "        df = df[(df['Date'] >=  pd.Timestamp(begin_receipt.value)) & (df['Date'] <= pd.Timestamp(end_receipt.value))] \n",
    "        \n",
    "        # Sort by date\n",
    "        df = df.sort_values(by = 'Date')\n",
    "        \n",
    "        # Refine date\n",
    "        df['Date'] = df['Date'].dt.strftime('%d/%m/%Y')\n",
    "        \n",
    "        # Reset index\n",
    "        df = df.reset_index(drop =True)\n",
    "        \n",
    "        # Red column vector\n",
    "        red_col = ['Nota BM&F', 'FX Value', 'Nota BM&F Cum Sum', 'FX Value Cum Sum']\n",
    "        \n",
    "        # Print results\n",
    "        display(df.style.applymap(color_negative_red, subset=pd.IndexSlice[:, red_col]).set_precision(2))\n",
    "        \n",
    "# Create button clicked function\n",
    "def receipt_clean_on_click(b):\n",
    "    with output_receipt_clean:\n",
    "        \n",
    "        # Clear output_receipt\n",
    "        output_receipt.clear_output()"
   ]
  },
  {
   "cell_type": "code",
   "execution_count": 43,
   "metadata": {
    "ExecuteTime": {
     "end_time": "2021-02-25T16:51:59.329373Z",
     "start_time": "2021-02-25T16:51:59.255412Z"
    }
   },
   "outputs": [],
   "source": [
    "# On button click\n",
    "button_receipt.on_click(receipt_on_click)\n",
    "button_receipt_clean.on_click(receipt_clean_on_click)"
   ]
  }
 ],
 "metadata": {
  "kernelspec": {
   "display_name": "Python 3",
   "language": "python",
   "name": "python3"
  },
  "language_info": {
   "codemirror_mode": {
    "name": "ipython",
    "version": 3
   },
   "file_extension": ".py",
   "mimetype": "text/x-python",
   "name": "python",
   "nbconvert_exporter": "python",
   "pygments_lexer": "ipython3",
   "version": "3.8.5"
  },
  "varInspector": {
   "cols": {
    "lenName": 16,
    "lenType": 16,
    "lenVar": 40
   },
   "kernels_config": {
    "python": {
     "delete_cmd_postfix": "",
     "delete_cmd_prefix": "del ",
     "library": "var_list.py",
     "varRefreshCmd": "print(var_dic_list())"
    },
    "r": {
     "delete_cmd_postfix": ") ",
     "delete_cmd_prefix": "rm(",
     "library": "var_list.r",
     "varRefreshCmd": "cat(var_dic_list()) "
    }
   },
   "types_to_exclude": [
    "module",
    "function",
    "builtin_function_or_method",
    "instance",
    "_Feature"
   ],
   "window_display": false
  }
 },
 "nbformat": 4,
 "nbformat_minor": 4
}
