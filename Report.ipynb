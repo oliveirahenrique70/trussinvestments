{
 "cells": [
  {
   "cell_type": "markdown",
   "metadata": {},
   "source": [
    "<center><h1> Truss Investment </h1></center>\n",
    "<center><h1> Trades Data Analysis Report</h1></center>\n",
    "  \n",
    "### February 2021 \n",
    "---"
   ]
  },
  {
   "cell_type": "markdown",
   "metadata": {
    "ExecuteTime": {
     "end_time": "2021-02-04T11:56:35.730948Z",
     "start_time": "2021-02-04T11:56:35.716974Z"
    }
   },
   "source": [
    "## Report Summary \n",
    "\n",
    "[Introduction](#Introduction)\n",
    "\n",
    "[Data Table](#Data-Table)\n",
    "\n",
    "[Time Series](#Time-Series)\n",
    "\n",
    "---"
   ]
  },
  {
   "cell_type": "markdown",
   "metadata": {},
   "source": [
    "## Introduction\n",
    "\n",
    "This report will analyze the Truss Investments trades executed during the period from July 2020 to February 2021. \n",
    "\n",
    "This report is **interactive**. Therefore you are allowed to make multiple analysis using filters to selects specific data to examine.\n",
    "\n",
    "The report can display these financial variables results of the trades:\n",
    "\n",
    "* Hold Position (*Hold Pos*)\n",
    "* Market to Market Profit and Loss\n",
    "* Gross Profit and Loss\n",
    "* Comm\n",
    "* Avarege Weekly Traded Volume (*ADV*)\n",
    "* Exange Fee (*Exc Fee*)\n",
    "* Net Profit and Loss\n",
    "\n",
    "The trades available for the analysis are:"
   ]
  },
  {
   "cell_type": "code",
   "execution_count": 2,
   "metadata": {
    "ExecuteTime": {
     "end_time": "2021-02-08T13:04:24.956649Z",
     "start_time": "2021-02-08T13:04:24.610682Z"
    }
   },
   "outputs": [],
   "source": [
    "# Load libraries\n",
    "import glob\n",
    "import pandas as pd\n",
    "import ipywidgets as widgets\n",
    "from ipywidgets import Layout\n",
    "from IPython.display import clear_output, display, HTML\n",
    "import datetime\n",
    "from datetime import date\n",
    "\n",
    "# Supress warning\n",
    "pd.options.mode.chained_assignment = None\n",
    "\n",
    "# Display options\n",
    "pd.set_option('display.float_format', lambda x: '%.3f' % x)"
   ]
  },
  {
   "cell_type": "code",
   "execution_count": 3,
   "metadata": {
    "ExecuteTime": {
     "end_time": "2021-02-08T13:04:24.986803Z",
     "start_time": "2021-02-08T13:04:24.960670Z"
    }
   },
   "outputs": [],
   "source": [
    "# Get files names\n",
    "all_files = glob.glob('*.csv')\n",
    "\n",
    "# Create list of dfs\n",
    "list_of_dfs = [\n",
    "    pd.read_csv(filename, index_col=None, error_bad_lines=False, sep=',')\n",
    "    for filename in all_files]"
   ]
  },
  {
   "cell_type": "code",
   "execution_count": 4,
   "metadata": {
    "ExecuteTime": {
     "end_time": "2021-02-08T13:04:25.079708Z",
     "start_time": "2021-02-08T13:04:24.987724Z"
    }
   },
   "outputs": [
    {
     "name": "stdout",
     "output_type": "stream",
     "text": [
      "\u001b[30;1mISPH21, \u001b[30;1mWSPH21\n"
     ]
    }
   ],
   "source": [
    "# Print Trades Names\n",
    "trades_list = ['\\033[30;1m' + x[:-4] for x in all_files]\n",
    "\n",
    "trades_list \n",
    "\n",
    "print( *trades_list, sep = ', ')"
   ]
  },
  {
   "cell_type": "markdown",
   "metadata": {},
   "source": [
    "Initially, you need to chose the trade and period you want to analize.\n",
    "\n",
    "### Select trade:"
   ]
  },
  {
   "cell_type": "code",
   "execution_count": 5,
   "metadata": {
    "ExecuteTime": {
     "end_time": "2021-02-08T13:04:25.190191Z",
     "start_time": "2021-02-08T13:04:25.083696Z"
    }
   },
   "outputs": [
    {
     "data": {
      "application/vnd.jupyter.widget-view+json": {
       "model_id": "124f63d34bd946399df545192f8e0fd0",
       "version_major": 2,
       "version_minor": 0
      },
      "text/plain": [
       "Dropdown(description='Trade:', options=('ISPH21', 'WSPH21'), value='ISPH21')"
      ]
     },
     "metadata": {},
     "output_type": "display_data"
    }
   ],
   "source": [
    "# Create trades dropdown menu\n",
    "tradesmenu = widgets.Dropdown(\n",
    "    options=['DOLG21','DOLQ20','DOLU20','INDG21','INDJ21','ISPH21','ISPM21','ISPU20','ISPZ20','WDOF21','WDOG21','WDOQ20','WDOU20','WSPH21','WSPU20','WSPZ20'],\n",
    "    value='ISPH21',\n",
    "    description='Trade:',\n",
    "    disabled=False,\n",
    ")\n",
    "\n",
    "# Print tradesmenu\n",
    "display(tradesmenu)"
   ]
  },
  {
   "cell_type": "markdown",
   "metadata": {},
   "source": [
    "### Select period:"
   ]
  },
  {
   "cell_type": "code",
   "execution_count": 6,
   "metadata": {
    "ExecuteTime": {
     "end_time": "2021-02-08T13:04:25.347490Z",
     "start_time": "2021-02-08T13:04:25.191187Z"
    }
   },
   "outputs": [
    {
     "data": {
      "application/vnd.jupyter.widget-view+json": {
       "model_id": "215c6f4d493c4ddfa9d516805af06e0a",
       "version_major": 2,
       "version_minor": 0
      },
      "text/plain": [
       "DatePicker(value=datetime.date(2020, 7, 1), description='Start:')"
      ]
     },
     "metadata": {},
     "output_type": "display_data"
    },
    {
     "data": {
      "application/vnd.jupyter.widget-view+json": {
       "model_id": "b2b554fa8d614a2c8c03a839d79268fd",
       "version_major": 2,
       "version_minor": 0
      },
      "text/plain": [
       "DatePicker(value=datetime.date(2021, 2, 8), description='End')"
      ]
     },
     "metadata": {},
     "output_type": "display_data"
    }
   ],
   "source": [
    "# Get start and end date\n",
    "today = date.today()\n",
    "begin_date = datetime.datetime(2020, 7, 1).date()\n",
    "\n",
    "# Create begin date picker\n",
    "begin_trade = widgets.DatePicker(\n",
    "        description='Start:',\n",
    "        value = begin_date,\n",
    "        disabled=False)\n",
    "\n",
    "# Create end date picker\n",
    "end_trade = widgets.DatePicker(\n",
    "      description='End',\n",
    "      value = today,\n",
    "      disabled=False)\n",
    "\n",
    "# Display date \n",
    "display(begin, end)"
   ]
  },
  {
   "cell_type": "markdown",
   "metadata": {},
   "source": [
    "---\n",
    "\n",
    "## Data Table\n",
    "\n",
    "A visualization of the trades data table will begin the data analysis part of the report. Use the following filters to select which operation and financial variable from the trade you want to exam.\n",
    "\n",
    "### Select operation:"
   ]
  },
  {
   "cell_type": "code",
   "execution_count": 8,
   "metadata": {
    "ExecuteTime": {
     "end_time": "2021-02-08T13:04:25.578710Z",
     "start_time": "2021-02-08T13:04:25.441604Z"
    }
   },
   "outputs": [
    {
     "data": {
      "application/vnd.jupyter.widget-view+json": {
       "model_id": "bb6fe86d10d64ee8b66f711298b32290",
       "version_major": 2,
       "version_minor": 0
      },
      "text/plain": [
       "HBox(children=(Checkbox(value=False, description='Buy Quant', indent=False), Checkbox(value=False, description…"
      ]
     },
     "metadata": {},
     "output_type": "display_data"
    }
   ],
   "source": [
    "data = [\"Buy Quant\", \"Buy Price\", \"Sell Quant\", \"Sell Price\"]\n",
    "checkboxes_operation = [widgets.Checkbox(value=False, indent=False, description=label) for label in data]\n",
    "hbox_operation = widgets.HBox(children=checkboxes_operation, layout=Layout(width='500px'))\n",
    "display(hbox_operation)"
   ]
  },
  {
   "cell_type": "markdown",
   "metadata": {},
   "source": [
    "### Select financial:"
   ]
  },
  {
   "cell_type": "code",
   "execution_count": 9,
   "metadata": {
    "ExecuteTime": {
     "end_time": "2021-02-08T13:04:25.688692Z",
     "start_time": "2021-02-08T13:04:25.580668Z"
    }
   },
   "outputs": [
    {
     "data": {
      "application/vnd.jupyter.widget-view+json": {
       "model_id": "949ce284b7874b7f8aa1810313e1cb1f",
       "version_major": 2,
       "version_minor": 0
      },
      "text/plain": [
       "HBox(children=(Checkbox(value=False, description='Hold Pos', indent=False), Checkbox(value=False, description=…"
      ]
     },
     "metadata": {},
     "output_type": "display_data"
    }
   ],
   "source": [
    "data = [\"Hold Pos\", \"MtoM P&L\", \"Gross P&L\", \"Comm\", \"Exc Fee\", \"Net Prof Loss\"]\n",
    "checkboxes_financial = [widgets.Checkbox(value=False, indent=False, description=label) for label in data]\n",
    "hbox_financial = widgets.HBox(children=checkboxes_financial, layout=Layout(width='600px'))\n",
    "display(hbox_financial)"
   ]
  },
  {
   "cell_type": "markdown",
   "metadata": {},
   "source": [
    "Click on the button to submmit the **Data Table** analysis:"
   ]
  },
  {
   "cell_type": "code",
   "execution_count": 10,
   "metadata": {
    "ExecuteTime": {
     "end_time": "2021-02-08T13:04:25.781475Z",
     "start_time": "2021-02-08T13:04:25.690663Z"
    }
   },
   "outputs": [
    {
     "data": {
      "application/vnd.jupyter.widget-view+json": {
       "model_id": "fd8df5d936cb44bdbe36efce2a75bd54",
       "version_major": 2,
       "version_minor": 0
      },
      "text/plain": [
       "Button(button_style='success', description='Submmit', icon='check', style=ButtonStyle(), tooltip='OK')"
      ]
     },
     "metadata": {},
     "output_type": "display_data"
    }
   ],
   "source": [
    "# Create button and output\n",
    "button_trade = widgets.Button(\n",
    "    description='Submmit',\n",
    "    tooltip = 'OK',\n",
    "    icon='check',\n",
    "    button_style = 'success')\n",
    "\n",
    "# Create button output\n",
    "output_trade = widgets.Output()\n",
    "\n",
    "# Create button and output\n",
    "button_trade_clean = widgets.Button(\n",
    "    description='Clean',\n",
    "    tooltip = 'OK',\n",
    "    icon='remove',\n",
    "    button_style = 'danger')\n",
    "\n",
    "# Create button output\n",
    "output_trade_clean = widgets.Output()\n",
    "\n",
    "# Unite buttons\n",
    "ui = widgets.HBox([button_trade, button_trade_clean])\n",
    "\n",
    "# Diplay buttons\n",
    "display(ui)"
   ]
  },
  {
   "cell_type": "code",
   "execution_count": 13,
   "metadata": {
    "ExecuteTime": {
     "end_time": "2021-02-08T13:04:30.488175Z",
     "start_time": "2021-02-08T13:04:30.475245Z"
    }
   },
   "outputs": [
    {
     "data": {
      "application/vnd.jupyter.widget-view+json": {
       "model_id": "75d505a04e594962a35b533e56174a18",
       "version_major": 2,
       "version_minor": 0
      },
      "text/plain": [
       "Output()"
      ]
     },
     "metadata": {},
     "output_type": "display_data"
    }
   ],
   "source": [
    "# Button clicked output\n",
    "display(output_trade, output_trade_clean)\n",
    "\n",
    "# Fixede variables\n",
    "fixed = ['Date', 'Ticker']\n",
    "\n",
    "# Create button clicked function\n",
    "def on_button_clicked(b):  \n",
    "    with output_trade:\n",
    "        \n",
    "        # Clean output\n",
    "        clear_output()\n",
    "        \n",
    "        # Create selected_data list\n",
    "        selected_data = []\n",
    "        \n",
    "        # Add fixed variables\n",
    "        selected_data = selected_data + fixed\n",
    "        \n",
    "        # If loop\n",
    "        if tradesmenu.value == 'ISPU20':\n",
    "            trades = 0\n",
    "        \n",
    "        if tradesmenu.value == 'DOLQ20':\n",
    "            trades = 1\n",
    "            \n",
    "        if tradesmenu.value == 'DOLU20':\n",
    "            trades = 2\n",
    "            \n",
    "        if tradesmenu.value == 'INDG21':\n",
    "            trades = 4\n",
    "            \n",
    "        if tradesmenu.value == 'INDJ21':\n",
    "            trades = 5\n",
    "            \n",
    "        if tradesmenu.value == 'ISPM21':\n",
    "            trades = 6\n",
    "        \n",
    "        if tradesmenu.value == 'WDOU20':\n",
    "            trades = 7\n",
    "        \n",
    "        if tradesmenu.value == 'WSPH21':\n",
    "            trades = 8\n",
    "        \n",
    "        if tradesmenu.value == 'ISPH21':\n",
    "            trades = 9\n",
    "        \n",
    "        if tradesmenu.value == 'WDOQ20':\n",
    "            trades = 10\n",
    "        \n",
    "        if tradesmenu.value == 'WDOF21':\n",
    "            trades = 11\n",
    "        \n",
    "        if tradesmenu.value == 'WSPZ20':\n",
    "            trades = 12\n",
    "        \n",
    "        if tradesmenu.value == 'WDOG21':\n",
    "            trades = 13\n",
    "        \n",
    "        if tradesmenu.value == 'WSPU20':\n",
    "            trades = 14\n",
    "        \n",
    "        if tradesmenu.value == 'ISPZ20':\n",
    "            trades = 15\n",
    "        \n",
    "        if tradesmenu.value == 'DOLG21':\n",
    "            trades = 16\n",
    "        \n",
    "        # Loop operation filter\n",
    "        for i in range(0, len(checkboxes_operation)):\n",
    "                if checkboxes_operation[i].value == True:\n",
    "                    selected_data = selected_data + [checkboxes_operation[i].description]\n",
    "        \n",
    "        # Loop financial filter\n",
    "        for j in range(0, len(checkboxes_financial)):\n",
    "                if checkboxes_financial[j].value == True:\n",
    "                    selected_data = selected_data + [checkboxes_financial[j].description]\n",
    "                    \n",
    "        # Create dataframe\n",
    "        df = list_of_dfs[trades]\n",
    "                \n",
    "        # Round values\n",
    "        df = df.round({'Px Close':2, 'Sell Price':2, 'Buy Price': 2, 'Exc Fee':2, 'MtoM P&L':2, 'Gross P&L': 2, 'Net P&L': 2, 'Comm': 2})\n",
    "        \n",
    "        # Change columns type\n",
    "        df = df.astype({'Sell Quant': int, 'Buy Quant': int, 'Hold Pos': int})\n",
    "        \n",
    "        # Filter data\n",
    "        df = df[selected_data] \n",
    "               \n",
    "        # Transform into date type\n",
    "        df['Date'] = pd.to_datetime(df['Date'], format='%d/%m/%Y')\n",
    "        \n",
    "        # Refine end recipt date\n",
    "        end = datetime.strftime(end_receipt.value, '%d/%m/%Y')\n",
    "        \n",
    "        # Refine begin receipt date\n",
    "        begin = datetime.strftime(begin_receipt.value, '%d/%m/%Y')\n",
    "        \n",
    "        # Apply filter\n",
    "        df = df[(df['Date'] >= begin) & (df['Date'] <= end)]   \n",
    "        \n",
    "        # Sort by date\n",
    "        df = df.sort_values(by = 'Date')\n",
    "        \n",
    "        # Refine date\n",
    "        df['Date'] = df['Date'].dt.strftime('%d/%m/%Y')\n",
    "\n",
    "        # Reset index\n",
    "        df = df.reset_index(drop = True)\n",
    "        \n",
    "        # Create red columns vactor\n",
    "        red_col = ['MtoM P&L' , 'Gross P&L', 'Net P&L', 'Hold Pos']\n",
    "       \n",
    "        # Create auxiliar variable\n",
    "        aux = []\n",
    "        \n",
    "        # Loop to define red columns\n",
    "        for i in range(0,len(red_col)):\n",
    "            if(red_col[i] in df.columns):\n",
    "                aux.append(red_col[i])\n",
    "        if aux == []:\n",
    "            \n",
    "            # Print result (without red columns)\n",
    "            display(df.style.set_precision(2))\n",
    "            \n",
    "        else:\n",
    "            \n",
    "            # Print result (with red columns)\n",
    "            display(df.style.applymap(color_negative_red, subset=pd.IndexSlice[:, aux]).set_precision(2))\n",
    "            \n",
    "# Create clean button function\n",
    "def trade_clean_on_clicked(b):  \n",
    "    with output_trade_clean:\n",
    "        \n",
    "        # Clean output\n",
    "        output_trade.clear_output()"
   ]
  },
  {
   "cell_type": "code",
   "execution_count": 12,
   "metadata": {
    "ExecuteTime": {
     "end_time": "2021-02-08T13:04:26.062087Z",
     "start_time": "2021-02-08T13:04:25.955778Z"
    }
   },
   "outputs": [],
   "source": [
    "# On button click\n",
    "button_trade.on_click(trade_on_clicked)\n",
    "button_trade_clean.on_click(trade_clean_on_clicked)"
   ]
  },
  {
   "cell_type": "markdown",
   "metadata": {},
   "source": [
    "---\n",
    "\n",
    "## Receipt Data Table\n",
    "\n",
    "### Select period:"
   ]
  },
  {
   "cell_type": "code",
   "execution_count": 11,
   "metadata": {
    "ExecuteTime": {
     "end_time": "2021-02-23T11:48:06.453894Z",
     "start_time": "2021-02-23T11:48:06.338361Z"
    }
   },
   "outputs": [
    {
     "data": {
      "application/vnd.jupyter.widget-view+json": {
       "model_id": "4857cd2111954ca6ab94e34c0c59d3b1",
       "version_major": 2,
       "version_minor": 0
      },
      "text/plain": [
       "DatePicker(value=datetime.date(2020, 7, 1), description='Start:')"
      ]
     },
     "metadata": {},
     "output_type": "display_data"
    },
    {
     "data": {
      "application/vnd.jupyter.widget-view+json": {
       "model_id": "6980e2fe32324af4af4753c85057a81e",
       "version_major": 2,
       "version_minor": 0
      },
      "text/plain": [
       "DatePicker(value=datetime.date(2021, 2, 23), description='End:')"
      ]
     },
     "metadata": {},
     "output_type": "display_data"
    }
   ],
   "source": [
    "# Create begin date picker\n",
    "begin_receipt = widgets.DatePicker(\n",
    "        description='Start:',\n",
    "        value = begin_date,\n",
    "        disabled=False)\n",
    "\n",
    "# Create end date picker\n",
    "end_receipt = widgets.DatePicker(\n",
    "      description='End:',\n",
    "      value = today,\n",
    "      disabled=False)\n",
    "\n",
    "# Display date filter \n",
    "display(begin_receipt, end_receipt)"
   ]
  },
  {
   "cell_type": "markdown",
   "metadata": {},
   "source": [
    "Click on the buttons to submmit or clean the receipt **data table**:"
   ]
  },
  {
   "cell_type": "code",
   "execution_count": 49,
   "metadata": {
    "ExecuteTime": {
     "end_time": "2021-02-23T12:43:29.398561Z",
     "start_time": "2021-02-23T12:43:29.382603Z"
    }
   },
   "outputs": [],
   "source": [
    "# Read data\n",
    "receipt = list_of_dfs[3]\n",
    "\n",
    "# Fill missing values \n",
    "receipt['Description'].fillna('-', inplace=True)\n",
    "receipt = receipt.fillna(0)\n",
    "\n",
    "# Cumulative sum\n",
    "receipt['Nota BM&F Cum Sum'] = receipt['Nota BM&F'].cumsum()\n",
    "receipt['FX Value Cum Sum'] = receipt['FX Value'].cumsum()\n",
    "\n",
    "# Create total vector\n",
    "total = receipt['Nota BM&F'] + receipt['FX Value']\n",
    "\n",
    "# Apply cumulative sum to total vector\n",
    "receipt['Total Cum Sum'] = total.cumsum()\n",
    "\n",
    "# Create cum sum variance\n",
    "receipt['Total Cum Sum Var'] = abs((receipt['Total Cum Sum'] .pct_change()) * 100)"
   ]
  },
  {
   "cell_type": "code",
   "execution_count": null,
   "metadata": {
    "ExecuteTime": {
     "end_time": "2021-02-19T19:37:26.224957Z",
     "start_time": "2021-02-19T19:37:26.072301Z"
    }
   },
   "outputs": [],
   "source": [
    "# Create button and output\n",
    "button_receipt = widgets.Button(description='Submmit',\n",
    "                                tooltip = 'OK',\n",
    "                                icon='check',\n",
    "                                button_style = 'success')\n",
    "\n",
    "# Create button output\n",
    "output_receipt = widgets.Output()\n",
    "\n",
    "# Create button and output\n",
    "button_receipt_clean = widgets.Button(description='Clean',\n",
    "                                      tooltip = 'OK',\n",
    "                                      icon='remove',\n",
    "                                      button_style = 'danger')\n",
    "\n",
    "# Create button output\n",
    "output_receipt_clean = widgets.Output()\n",
    "\n",
    "# Unite buttons\n",
    "ui = widgets.HBox([button_receipt, button_receipt_clean])\n",
    "\n",
    "# Diplay buttons\n",
    "display(ui)"
   ]
  },
  {
   "cell_type": "code",
   "execution_count": 52,
   "metadata": {
    "ExecuteTime": {
     "end_time": "2021-02-23T12:53:12.411239Z",
     "start_time": "2021-02-23T12:53:12.386345Z"
    }
   },
   "outputs": [
    {
     "ename": "NameError",
     "evalue": "name 'output_receipt' is not defined",
     "output_type": "error",
     "traceback": [
      "\u001b[1;31m---------------------------------------------------------------------------\u001b[0m",
      "\u001b[1;31mNameError\u001b[0m                                 Traceback (most recent call last)",
      "\u001b[1;32m<ipython-input-52-81a53252172c>\u001b[0m in \u001b[0;36m<module>\u001b[1;34m\u001b[0m\n\u001b[0;32m      1\u001b[0m \u001b[1;31m# Button clicked output\u001b[0m\u001b[1;33m\u001b[0m\u001b[1;33m\u001b[0m\u001b[1;33m\u001b[0m\u001b[0m\n\u001b[1;32m----> 2\u001b[1;33m \u001b[0mdisplay\u001b[0m\u001b[1;33m(\u001b[0m\u001b[0moutput_receipt\u001b[0m\u001b[1;33m,\u001b[0m \u001b[0moutput_receipt_clean\u001b[0m\u001b[1;33m)\u001b[0m\u001b[1;33m\u001b[0m\u001b[1;33m\u001b[0m\u001b[0m\n\u001b[0m\u001b[0;32m      3\u001b[0m \u001b[1;33m\u001b[0m\u001b[0m\n\u001b[0;32m      4\u001b[0m \u001b[1;31m# Create button clicked function\u001b[0m\u001b[1;33m\u001b[0m\u001b[1;33m\u001b[0m\u001b[1;33m\u001b[0m\u001b[0m\n\u001b[0;32m      5\u001b[0m \u001b[1;32mdef\u001b[0m \u001b[0mreceipt_on_click\u001b[0m\u001b[1;33m(\u001b[0m\u001b[0mb\u001b[0m\u001b[1;33m)\u001b[0m\u001b[1;33m:\u001b[0m\u001b[1;33m\u001b[0m\u001b[1;33m\u001b[0m\u001b[0m\n",
      "\u001b[1;31mNameError\u001b[0m: name 'output_receipt' is not defined"
     ]
    }
   ],
   "source": [
    "# Button clicked output\n",
    "display(output_receipt, output_receipt_clean)\n",
    "\n",
    "# Create button clicked function\n",
    "def receipt_on_click(b):\n",
    "    with output_receipt:\n",
    "        \n",
    "        # Clean output\n",
    "        clear_output()\n",
    "        \n",
    "        # Create receipt dataframe\n",
    "        df = receipt\n",
    "        \n",
    "        # Transform into date type\n",
    "        df['Date'] = pd.to_datetime(df['Date'], format='%d/%m/%Y')\n",
    "        \n",
    "        # Refine end recipt date\n",
    "        end = datetime.strftime(end_receipt.value, '%d/%m/%Y')\n",
    "        \n",
    "        # Refine begin receipt date\n",
    "        begin = datetime.strftime(begin_receipt.value, '%d/%m/%Y')\n",
    "        \n",
    "        # Apply filter\n",
    "        df = df[(df['Date'] >= begin) & (df['Date'] <= end)]  \n",
    "        \n",
    "        # Sort by date\n",
    "        df = df.sort_values(by = 'Date')\n",
    "        \n",
    "        # Refine date\n",
    "        df['Date'] = df['Date'].dt.strftime('%d/%m/%Y')\n",
    "        \n",
    "        # Reset index\n",
    "        df = df.reset_index(drop =True)\n",
    "        \n",
    "        # Red column vector\n",
    "        red_col = ['Nota BM&F', 'FX Value', 'Nota BM&F Cum Sum', 'FX Value Cum Sum']\n",
    "        \n",
    "        # Print results\n",
    "        display(df.style.applymap(color_negative_red, subset=pd.IndexSlice[:, red_col]).set_precision(2))\n",
    "        \n",
    "# Create button clicked function\n",
    "def receipt_clean_on_click(b):\n",
    "    with output_receipt_clean:\n",
    "        \n",
    "        # Clear output_receipt\n",
    "        output_receipt.clear_output()"
   ]
  },
  {
   "cell_type": "code",
   "execution_count": null,
   "metadata": {
    "ExecuteTime": {
     "end_time": "2021-02-19T19:37:26.457068Z",
     "start_time": "2021-02-19T19:37:26.334867Z"
    }
   },
   "outputs": [],
   "source": [
    "# On button click\n",
    "button_receipt.on_click(receipt_on_click)\n",
    "button_receipt_clean.on_click(receipt_clean_on_click)"
   ]
  }
 ],
 "metadata": {
  "kernelspec": {
   "display_name": "Python 3",
   "language": "python",
   "name": "python3"
  },
  "language_info": {
   "codemirror_mode": {
    "name": "ipython",
    "version": 3
   },
   "file_extension": ".py",
   "mimetype": "text/x-python",
   "name": "python",
   "nbconvert_exporter": "python",
   "pygments_lexer": "ipython3",
   "version": "3.8.5"
  },
  "varInspector": {
   "cols": {
    "lenName": 16,
    "lenType": 16,
    "lenVar": 40
   },
   "kernels_config": {
    "python": {
     "delete_cmd_postfix": "",
     "delete_cmd_prefix": "del ",
     "library": "var_list.py",
     "varRefreshCmd": "print(var_dic_list())"
    },
    "r": {
     "delete_cmd_postfix": ") ",
     "delete_cmd_prefix": "rm(",
     "library": "var_list.r",
     "varRefreshCmd": "cat(var_dic_list()) "
    }
   },
   "types_to_exclude": [
    "module",
    "function",
    "builtin_function_or_method",
    "instance",
    "_Feature"
   ],
   "window_display": false
  }
 },
 "nbformat": 4,
 "nbformat_minor": 4
}
