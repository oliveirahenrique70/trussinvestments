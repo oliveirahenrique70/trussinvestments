{
 "cells": [
  {
   "cell_type": "markdown",
   "metadata": {},
   "source": [
    "<center><h1> Truss Investment </h1></center>\n",
    "<center><h1> Trades Finantial Data Analysis </h1></center>\n",
    "  \n",
    "### 18 January 2021 \n",
    "---\n",
    "\n",
    "## Introduction\n",
    "\n",
    "The report will analyse the **Truss Investments** trades executed during the period from July 2020 to December 2020. It will be displayed different finantial variables from the trades, for example:\n",
    "\n",
    "* Hold Position\n",
    "* Market to Market Profit and Loss\n",
    "* Gross Profit and Loss\n",
    "* Comm\n",
    "* Avarege Weekly Traded Volume\n",
    "* Exange Fee\n",
    "* Net Profit and Loss"
   ]
  },
  {
   "cell_type": "code",
   "execution_count": 4,
   "metadata": {
    "ExecuteTime": {
     "end_time": "2021-02-03T13:05:15.650229Z",
     "start_time": "2021-02-03T13:05:15.632128Z"
    }
   },
   "outputs": [],
   "source": [
    "# Load libraries\n",
    "import glob\n",
    "import pandas as pd\n",
    "import ipywidgets as widgets\n",
    "from IPython.display import clear_output, display, HTML"
   ]
  },
  {
   "cell_type": "code",
   "execution_count": 8,
   "metadata": {
    "ExecuteTime": {
     "end_time": "2021-02-03T13:39:40.766146Z",
     "start_time": "2021-02-03T13:39:40.755171Z"
    }
   },
   "outputs": [],
   "source": [
    "# Get files names\n",
    "all_files = glob.glob('*.csv')\n",
    "\n",
    "# Create list of dfs\n",
    "list_of_dfs = [\n",
    "    pd.read_csv(filename, index_col=None, error_bad_lines=False, sep=',')\n",
    "    for filename in all_files\n",
    "]"
   ]
  },
  {
   "cell_type": "code",
   "execution_count": null,
   "metadata": {
    "ExecuteTime": {
     "end_time": "2021-02-03T12:42:55.874859Z",
     "start_time": "2021-02-03T12:42:55.770020Z"
    }
   },
   "outputs": [],
   "source": [
    "# Create trades dropdown menu\n",
    "tradesmenu = widgets.Dropdown(\n",
    "    options=['ISPH21', 'WSPH21'],\n",
    "    value='ISPH21',\n",
    "    description='Trade:',\n",
    "    disabled=False,\n",
    ")\n",
    "\n",
    "display(tradesmenu)"
   ]
  },
  {
   "cell_type": "code",
   "execution_count": null,
   "metadata": {
    "ExecuteTime": {
     "end_time": "2021-02-03T12:42:55.952936Z",
     "start_time": "2021-02-03T12:42:55.875854Z"
    }
   },
   "outputs": [],
   "source": [
    "# Button clicked output\n",
    "output = widgets.Output()\n",
    "\n",
    "\n",
    "# Create button clicked function\n",
    "def on_button_clicked(b):\n",
    "    with output:\n",
    "        clear_output()\n",
    "        if tradesmenu.value == 'ISPH21':\n",
    "            display(HTML(list_of_dfs[1].to_html()))\n",
    "        if tradesmenu.value == 'WSPH21':\n",
    "            display(HTML(list_of_dfs[0].to_html()))"
   ]
  },
  {
   "cell_type": "code",
   "execution_count": null,
   "metadata": {
    "ExecuteTime": {
     "end_time": "2021-02-03T12:42:56.044799Z",
     "start_time": "2021-02-03T12:42:55.953737Z"
    }
   },
   "outputs": [],
   "source": [
    "# Create button and output\n",
    "wbutton = widgets.Button(\n",
    "    description='Clique Aqui',\n",
    "    tooltip = 'OK')\n",
    "\n",
    "# activate button\n",
    "wbutton.on_click(on_button_clicked)\n",
    "\n",
    "# Diplay button and output\n",
    "display(wbutton,output)"
   ]
  }
 ],
 "metadata": {
  "kernelspec": {
   "display_name": "Python 3",
   "language": "python",
   "name": "python3"
  },
  "language_info": {
   "codemirror_mode": {
    "name": "ipython",
    "version": 3
   },
   "file_extension": ".py",
   "mimetype": "text/x-python",
   "name": "python",
   "nbconvert_exporter": "python",
   "pygments_lexer": "ipython3",
   "version": "3.8.5"
  },
  "varInspector": {
   "cols": {
    "lenName": 16,
    "lenType": 16,
    "lenVar": 40
   },
   "kernels_config": {
    "python": {
     "delete_cmd_postfix": "",
     "delete_cmd_prefix": "del ",
     "library": "var_list.py",
     "varRefreshCmd": "print(var_dic_list())"
    },
    "r": {
     "delete_cmd_postfix": ") ",
     "delete_cmd_prefix": "rm(",
     "library": "var_list.r",
     "varRefreshCmd": "cat(var_dic_list()) "
    }
   },
   "types_to_exclude": [
    "module",
    "function",
    "builtin_function_or_method",
    "instance",
    "_Feature"
   ],
   "window_display": false
  }
 },
 "nbformat": 4,
 "nbformat_minor": 4
}
