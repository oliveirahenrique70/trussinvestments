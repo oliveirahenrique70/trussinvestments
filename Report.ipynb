{
 "cells": [
  {
   "cell_type": "markdown",
   "metadata": {},
   "source": [
    "<center><h1> Truss Investment </h1></center>\n",
    "<center><h1> Trades Data Analysis Report</h1></center>\n",
    "  \n",
    "### February 2021 \n",
    "---"
   ]
  },
  {
   "cell_type": "markdown",
   "metadata": {
    "ExecuteTime": {
     "end_time": "2021-02-04T11:56:35.730948Z",
     "start_time": "2021-02-04T11:56:35.716974Z"
    }
   },
   "source": [
    "## Summary \n",
    "\n",
    "[Introduction](#Introduction)\n",
    "\n",
    "[Trades Data Table](#Trades-Data-Table)\n",
    "\n",
    "[Receipt Data Table](#Receipt-Data-Table)\n",
    "\n",
    "---"
   ]
  },
  {
   "cell_type": "markdown",
   "metadata": {},
   "source": [
    "## Introduction\n",
    "\n",
    "This report will analyze the Truss Investments trades executed during the period from July 2020 to February 2021. \n",
    "\n",
    "This report is **interactive**. Therefore, you are allowed to make multiple analysis using filters to selects specific data to examine.\n",
    "\n",
    "The report can display these financial variables results of the trades:\n",
    "\n",
    "* Hold Position (*Hold Pos*)\n",
    "* Market to Market Profit and Loss (*MtoM P&L*)\n",
    "* Gross Profit and Loss (*Gross P&L*)\n",
    "* Comm\n",
    "* Avarege Weekly Traded Volume (*ADV*)\n",
    "* Exange Fee (*Exc Fee*)\n",
    "* Net Profit and Loss (*Net P&L*)\n",
    "\n",
    "The trades available for the analysis are:\n",
    "\n",
    "### S&P 500\n",
    "* ISP - Futuro de S&P 500 com Liquidação Financeira Referenciada ao Preço do S&P 500 do CME Group\n",
    "* WSP - Microcontrato Futuro de S&P 500 com Liquidação Financeira Referenciada ao Preço do S&P 500 do CME Group\n",
    "\n",
    "### Ibovespa\n",
    "* IND - Futuro de Ibovespa\n",
    "* WIN - Futuro Mini de Ibovespa\n",
    "\n",
    "### Dollar\n",
    "* DOL - Futuro de Reais por Dólar Comercial\n",
    "* WDO - Futuro Míni de Reais por Dólar Comercial "
   ]
  },
  {
   "cell_type": "code",
   "execution_count": 11,
   "metadata": {
    "ExecuteTime": {
     "end_time": "2021-03-11T14:13:37.979200Z",
     "start_time": "2021-03-11T14:13:37.961291Z"
    }
   },
   "outputs": [],
   "source": [
    "# Load libraries\n",
    "import glob\n",
    "import pandas as pd\n",
    "import ipywidgets as widgets\n",
    "from ipywidgets import Layout, interact, interactive\n",
    "from IPython.display import clear_output, display, HTML\n",
    "import datetime as dt\n",
    "from datetime import datetime, date\n",
    "import plotly.express as px\n",
    "\n",
    "# Supress warning\n",
    "pd.options.mode.chained_assignment = None\n",
    "\n",
    "# Display all rows\n",
    "pd.set_option('display.max_rows', 500)\n",
    "\n",
    "# Display options\n",
    "#pd.set_option('display.float_format', lambda x: '%.3f' % x)"
   ]
  },
  {
   "cell_type": "code",
   "execution_count": 10,
   "metadata": {
    "ExecuteTime": {
     "end_time": "2021-03-11T14:10:50.962198Z",
     "start_time": "2021-03-11T14:10:50.942213Z"
    }
   },
   "outputs": [],
   "source": [
    "# Create functions\n",
    "\n",
    "# Set negative values as red\n",
    "def color_negative_red(val):\n",
    "    color = 'red' if val < 0 else 'black'\n",
    "    return 'color: %s' % color\n",
    "\n",
    "# Get trade dataset\n",
    "def trade_select(x):\n",
    "    \n",
    "    if x == 'INDG21':\n",
    "        df=  list_of_dfs[0]\n",
    "        \n",
    "    if x == 'ISPU20':\n",
    "        df = list_of_dfs[1]   \n",
    "        \n",
    "    if x == 'WDOJ21':\n",
    "        df = list_of_dfs[2] \n",
    "    \n",
    "    if x == 'DOLQ20':\n",
    "        df = list_of_dfs[3] \n",
    "        \n",
    "    if x == 'INDJ21':\n",
    "        df = list_of_dfs[4] \n",
    "        \n",
    "    if x == 'DOLU20':\n",
    "        df = list_of_dfs[5]\n",
    "        \n",
    "    if x == 'ISPM21':\n",
    "        df = list_of_dfs[6] \n",
    "        \n",
    "    if x == 'WDOU20':\n",
    "        df = list_of_dfs[7] \n",
    "        \n",
    "    if x == 'WSPH21':\n",
    "        df = list_of_dfs[8]\n",
    "        \n",
    "    if x == 'ISPH21':\n",
    "        df = list_of_dfs[9]  \n",
    "        \n",
    "    if x == 'WDOQ20':\n",
    "        df = list_of_dfs[10]  \n",
    "        \n",
    "    if x == 'WDOF21':\n",
    "        df = list_of_dfs[11]  \n",
    "        \n",
    "    if x == 'WSPZ20':\n",
    "        df = list_of_dfs[12]  \n",
    "    \n",
    "    if x == 'WDOG21':\n",
    "        df = list_of_dfs[13] \n",
    "        \n",
    "    if x == 'WSPU20':\n",
    "        df = list_of_dfs[14] \n",
    "        \n",
    "    if x == 'WINJ21':\n",
    "        df = list_of_dfs[15] \n",
    "        \n",
    "    if x == 'ISPZ20':\n",
    "        df = list_of_dfs[16]\n",
    "        \n",
    "    if x =='DOLG21':\n",
    "        df = list_of_dfs[17]    \n",
    "        \n",
    "    return df"
   ]
  },
  {
   "cell_type": "code",
   "execution_count": null,
   "metadata": {
    "ExecuteTime": {
     "end_time": "2021-03-11T14:08:32.871705Z",
     "start_time": "2021-03-11T14:08:32.681Z"
    }
   },
   "outputs": [],
   "source": [
    "# Get files names\n",
    "all_files = glob.glob('*.csv')\n",
    "\n",
    "# Create list of dfs\n",
    "list_of_dfs = [pd.read_csv(filename, index_col=None, error_bad_lines=False, sep=',') for filename in all_files]"
   ]
  },
  {
   "cell_type": "markdown",
   "metadata": {
    "ExecuteTime": {
     "end_time": "2021-02-18T11:38:37.941791Z",
     "start_time": "2021-02-18T11:38:37.864677Z"
    }
   },
   "source": [
    "---\n",
    "\n",
    "## Trades Data Table\n",
    "\n",
    "A visualization of the trades data table will begin the data analysis part of the report. Use the following filters to select which operation and financial variable from the trade you want to exam.\n",
    "\n",
    "Initially, you need to chose the trade and period you want to analize.\n",
    "\n",
    "### Select trade:"
   ]
  },
  {
   "cell_type": "code",
   "execution_count": null,
   "metadata": {
    "ExecuteTime": {
     "end_time": "2021-03-11T14:08:32.875651Z",
     "start_time": "2021-03-11T14:08:32.684Z"
    }
   },
   "outputs": [],
   "source": [
    "# Create trades dropdown menu\n",
    "trade_dropdown = interactive(trade_select,\n",
    "                             x=widgets.Dropdown(\n",
    "    options=['DOLG21', # DOL\n",
    "             'DOLQ20',\n",
    "             'DOLU20',\n",
    "             \n",
    "             'WDOJ21', #WDO\n",
    "             'WDOF21',\n",
    "             'WDOG21',\n",
    "             'WDOQ20',\n",
    "             'WDOU20',\n",
    "             \n",
    "             'INDG21', # IND\n",
    "             'INDJ21',\n",
    "             \n",
    "             'WINJ21', # WIN\n",
    "\n",
    "             'ISPH21', # ISP\n",
    "             'ISPM21',             \n",
    "             'ISPU20',\n",
    "             'ISPZ20',\n",
    "\n",
    "             'WSPH21', # WSP\n",
    "             'WSPU20',\n",
    "             'WSPZ20'],\n",
    "    value='ISPH21',\n",
    "    description='Trade:'))\n",
    "\n",
    "# Display dropdown menu\n",
    "display(trade_dropdown)"
   ]
  },
  {
   "cell_type": "markdown",
   "metadata": {},
   "source": [
    "### Select period:"
   ]
  },
  {
   "cell_type": "code",
   "execution_count": 32,
   "metadata": {
    "ExecuteTime": {
     "end_time": "2021-03-11T12:56:08.142363Z",
     "start_time": "2021-03-11T12:56:08.064042Z"
    }
   },
   "outputs": [
    {
     "data": {
      "application/vnd.jupyter.widget-view+json": {
       "model_id": "0b5e2a63a5ff427696cd85e733bfb17e",
       "version_major": 2,
       "version_minor": 0
      },
      "text/plain": [
       "DatePicker(value=datetime.date(2020, 7, 1), description='Start:')"
      ]
     },
     "metadata": {},
     "output_type": "display_data"
    },
    {
     "data": {
      "application/vnd.jupyter.widget-view+json": {
       "model_id": "d44fd223f7f9430687d75443013470f1",
       "version_major": 2,
       "version_minor": 0
      },
      "text/plain": [
       "DatePicker(value=datetime.date(2021, 3, 11), description='End:')"
      ]
     },
     "metadata": {},
     "output_type": "display_data"
    }
   ],
   "source": [
    "# Get start and end date\n",
    "today = date.today()\n",
    "begin_date = dt.datetime(2020, 7, 1).date()\n",
    "\n",
    "# Create begin date picker\n",
    "begin_trade = widgets.DatePicker(description='Start:',\n",
    "                                 value = begin_date)\n",
    "\n",
    "# Create end date picker\n",
    "end_trade = widgets.DatePicker(description='End:',\n",
    "                               value = today)\n",
    "\n",
    "# Display date \n",
    "display(begin_trade, end_trade)"
   ]
  },
  {
   "cell_type": "code",
   "execution_count": 33,
   "metadata": {
    "ExecuteTime": {
     "end_time": "2021-03-11T12:56:08.268426Z",
     "start_time": "2021-03-11T12:56:08.143321Z"
    }
   },
   "outputs": [],
   "source": [
    "# Create vector with operations\n",
    "data = [\"Buy Quant\", \"Buy Price\", \"Sell Quant\", \"Sell Price\", \"Px Close\"]\n",
    "\n",
    "# Create checkbox operations\n",
    "checkboxes_operation = [widgets.Checkbox(value=False, indent=False, description=label) for label in data]\n",
    "\n",
    "# Create checkbox operations horizontal box\n",
    "hbox_operation = widgets.HBox(children=checkboxes_operation, layout=Layout(width='500px'))"
   ]
  },
  {
   "cell_type": "code",
   "execution_count": 34,
   "metadata": {
    "ExecuteTime": {
     "end_time": "2021-03-11T12:56:08.377974Z",
     "start_time": "2021-03-11T12:56:08.269424Z"
    }
   },
   "outputs": [],
   "source": [
    "# Create vector with financial\n",
    "data = [\"Hold Pos\", \"MtoM P&L\", \"Gross P&L\", \"Comm\", \"Exc Fee\", \"Net P&L\"]\n",
    "\n",
    "# Create checkbox financial\n",
    "checkboxes_financial = [widgets.Checkbox(value=False, indent=False, description=label) for label in data]\n",
    "\n",
    "# Create checkbox financial horizontal box\n",
    "hbox_financial = widgets.HBox(children=checkboxes_financial, layout=Layout(width='600px'))"
   ]
  },
  {
   "cell_type": "markdown",
   "metadata": {},
   "source": [
    "Click on the buttons to submmit or clean the trades **data table**:"
   ]
  },
  {
   "cell_type": "code",
   "execution_count": 35,
   "metadata": {
    "ExecuteTime": {
     "end_time": "2021-03-11T12:56:08.471233Z",
     "start_time": "2021-03-11T12:56:08.379970Z"
    }
   },
   "outputs": [],
   "source": [
    "# Create button and output\n",
    "button_trade = widgets.Button(\n",
    "    description='Submmit',\n",
    "    tooltip = 'OK',\n",
    "    icon='check',\n",
    "    button_style = 'success')\n",
    "\n",
    "# Create button output\n",
    "output_trade = widgets.Output()\n",
    "\n",
    "# Create button and output\n",
    "button_trade_clean = widgets.Button(\n",
    "    description='Clean',\n",
    "    tooltip = 'OK',\n",
    "    icon='remove',\n",
    "    button_style = 'danger')\n",
    "\n",
    "# Create button output\n",
    "output_trade_clean = widgets.Output()\n",
    "\n",
    "# Unite buttons\n",
    "ui = widgets.HBox([button_trade, button_trade_clean])"
   ]
  },
  {
   "cell_type": "code",
   "execution_count": 36,
   "metadata": {
    "ExecuteTime": {
     "end_time": "2021-03-11T12:56:08.549408Z",
     "start_time": "2021-03-11T12:56:08.473228Z"
    }
   },
   "outputs": [],
   "source": [
    "# Fixede variables\n",
    "fixed = ['Date', 'Ticker']\n",
    "\n",
    "# Create button clicked function\n",
    "def trade_on_clicked(b):  \n",
    "    with output_trade:\n",
    "        \n",
    "        # Clean output\n",
    "        clear_output()\n",
    "        \n",
    "        # Create selected_data list\n",
    "        selected_data = []\n",
    "        \n",
    "        # Add fixed variables\n",
    "        selected_data = selected_data + fixed\n",
    "                    \n",
    "        # Loop operation filter\n",
    "        for i in range(0, len(checkboxes_operation)):\n",
    "                if checkboxes_operation[i].value == True:\n",
    "                    selected_data = selected_data + [checkboxes_operation[i].description]\n",
    "        \n",
    "        # Loop financial filter\n",
    "        for j in range(0, len(checkboxes_financial)):\n",
    "                if checkboxes_financial[j].value == True:\n",
    "                    selected_data = selected_data + [checkboxes_financial[j].description]\n",
    "                                    \n",
    "        # Create trade dataframe\n",
    "        trade = trade_dropdown.result\n",
    "        \n",
    "        # Round values\n",
    "        trade = trade.round({'Px Close':2, 'Sell Price':2, 'Buy Price': 2, 'Exc Fee':2, 'MtoM P&L':2, 'Gross P&L': 2, 'Net P&L': 2, 'Comm': 2})\n",
    "        \n",
    "        # Change columns type\n",
    "        trade = trade.astype({'Sell Quant': int, 'Buy Quant': int, 'Hold Pos': int})\n",
    "        \n",
    "        # Filter data\n",
    "        trade = trade[selected_data] \n",
    "               \n",
    "        # Transform into date type\n",
    "        trade['Date'] = pd.to_datetime(trade['Date'], format='%d/%m/%Y')\n",
    "        \n",
    "        # Apply filter\n",
    "        trade = trade[(trade['Date'] >= pd.Timestamp(begin_trade.value)) &  (trade['Date'] <= pd.Timestamp(end_trade.value))]   \n",
    "        \n",
    "        # Sort by date\n",
    "        trade = trade.sort_values(by = 'Date')\n",
    "        \n",
    "        # Refine date\n",
    "        trade['Date'] = trade['Date'].dt.strftime('%d/%m/%Y')\n",
    "\n",
    "        # Reset index\n",
    "        trade = trade.reset_index(drop = True)\n",
    "        \n",
    "        # Create red columns vactor\n",
    "        red_col = ['MtoM P&L' , 'Gross P&L', 'Net P&L', 'Hold Pos']\n",
    "       \n",
    "        # Create auxiliar variable\n",
    "        aux = []\n",
    "        \n",
    "        # Loop to define red columns\n",
    "        for i in range(0,len(red_col)):\n",
    "            if(red_col[i] in trade.columns):\n",
    "                aux.append(red_col[i])\n",
    "        if aux == []:\n",
    "            \n",
    "            # Print result (without red columns)\n",
    "            display(trade.style.set_precision(2))\n",
    "            \n",
    "        else:\n",
    "            \n",
    "            # Print result (with red columns)\n",
    "            display(trade.style.applymap(color_negative_red, subset=pd.IndexSlice[:, aux]).set_precision(2))\n",
    "            \n",
    "# Create clean button function\n",
    "def trade_clean_on_clicked(b):  \n",
    "    with output_trade_clean:\n",
    "        \n",
    "        # Clean output\n",
    "        output_trade.clear_output()"
   ]
  },
  {
   "cell_type": "code",
   "execution_count": 37,
   "metadata": {
    "ExecuteTime": {
     "end_time": "2021-03-11T12:56:08.657932Z",
     "start_time": "2021-03-11T12:56:08.550405Z"
    }
   },
   "outputs": [],
   "source": [
    "# On button click\n",
    "button_trade.on_click(trade_on_clicked)\n",
    "button_trade_clean.on_click(trade_clean_on_clicked)"
   ]
  },
  {
   "cell_type": "code",
   "execution_count": 38,
   "metadata": {
    "ExecuteTime": {
     "end_time": "2021-03-11T12:56:08.783327Z",
     "start_time": "2021-03-11T12:56:08.658929Z"
    }
   },
   "outputs": [],
   "source": [
    "# Create trade dataframe\n",
    "trade = trade_dropdown.result\n",
    "\n",
    "# Transform trade format\n",
    "plot_df = pd.melt(trade[['Buy Quant', 'Sell Quant']])\n",
    "\n",
    "# Concat Date\n",
    "plot_df['Date'] = pd.concat([trade['Date'], trade['Date']]).reset_index(drop = True)\n",
    "\n",
    "# Create plot output\n",
    "out1 = widgets.Output()\n",
    "\n",
    "# Plot graph\n",
    "with out1:\n",
    "    fig = px.bar(plot_df, x=\"Date\", y=\"value\", color=\"variable\", title=\"Long-Form Input\")\n",
    "    fig.update_layout(barmode='group')\n",
    "    fig.show()"
   ]
  },
  {
   "cell_type": "code",
   "execution_count": 39,
   "metadata": {
    "ExecuteTime": {
     "end_time": "2021-03-11T12:56:08.876759Z",
     "start_time": "2021-03-11T12:56:08.785270Z"
    }
   },
   "outputs": [
    {
     "data": {
      "application/vnd.jupyter.widget-view+json": {
       "model_id": "491c169936554bf297a2754ee908396f",
       "version_major": 2,
       "version_minor": 0
      },
      "text/plain": [
       "VBox(children=(Tab(children=(VBox(children=(HTML(value='<h2> Select trade operation: </h2>'), HBox(children=(C…"
      ]
     },
     "metadata": {},
     "output_type": "display_data"
    }
   ],
   "source": [
    "# Create trades analysis table tab\n",
    "table_tab_trades = widgets.VBox(children=[\n",
    "    widgets.HTML('<h2> Select trade operation: </h2>'),\n",
    "    hbox_operation,\n",
    "    widgets.HTML('<h2> Select financial variable: </h2>'),\n",
    "    hbox_financial, \n",
    "    widgets.HTML('<br>'),\n",
    "    button_trade, \n",
    "    button_trade_clean,\n",
    "    output_trade\n",
    "])\n",
    "\n",
    "# Create trade analysis visualization tab\n",
    "viz_tab_trades = widgets.VBox(children=[\n",
    "    widgets.HTML('Test'),\n",
    "    out1\n",
    "    \n",
    "])\n",
    "\n",
    "# Plot tab\n",
    "tab_trades = widgets.Tab(children=[table_tab_trades, viz_tab_trades])\n",
    "tab_trades.set_title(0, 'Table')\n",
    "tab_trades.set_title(1, 'Visualization')\n",
    "widgets.VBox(children=[tab_trades])"
   ]
  },
  {
   "cell_type": "markdown",
   "metadata": {},
   "source": [
    "---\n",
    "\n",
    "## Receipt Data Table\n",
    "\n",
    "### Select period:"
   ]
  },
  {
   "cell_type": "code",
   "execution_count": 40,
   "metadata": {
    "ExecuteTime": {
     "end_time": "2021-03-11T12:56:08.969407Z",
     "start_time": "2021-03-11T12:56:08.877759Z"
    }
   },
   "outputs": [
    {
     "data": {
      "application/vnd.jupyter.widget-view+json": {
       "model_id": "cbed2b4ae76e40edbc97f5da0ecd2d69",
       "version_major": 2,
       "version_minor": 0
      },
      "text/plain": [
       "DatePicker(value=datetime.date(2020, 7, 1), description='Start:')"
      ]
     },
     "metadata": {},
     "output_type": "display_data"
    },
    {
     "data": {
      "application/vnd.jupyter.widget-view+json": {
       "model_id": "511f3e61154b44539f412fbd2a2a0b43",
       "version_major": 2,
       "version_minor": 0
      },
      "text/plain": [
       "DatePicker(value=datetime.date(2021, 3, 11), description='End:')"
      ]
     },
     "metadata": {},
     "output_type": "display_data"
    }
   ],
   "source": [
    "# Create begin date picker\n",
    "begin_receipt = widgets.DatePicker(\n",
    "        description='Start:',\n",
    "        value = begin_date,\n",
    "        disabled=False)\n",
    "\n",
    "# Create end date picker\n",
    "end_receipt = widgets.DatePicker(\n",
    "      description='End:',\n",
    "      value = today,\n",
    "      disabled=False)\n",
    "\n",
    "# Display date filter \n",
    "display(begin_receipt, end_receipt)"
   ]
  },
  {
   "cell_type": "markdown",
   "metadata": {},
   "source": [
    "Click on the buttons to submmit or clean the receipt **data table**:"
   ]
  },
  {
   "cell_type": "code",
   "execution_count": 41,
   "metadata": {
    "ExecuteTime": {
     "end_time": "2021-03-11T12:56:09.062914Z",
     "start_time": "2021-03-11T12:56:08.970405Z"
    }
   },
   "outputs": [],
   "source": [
    "# Read data\n",
    "receipt = pd.read_csv('Receipt.csv')\n",
    "\n",
    "# Fill missing values \n",
    "receipt['FX Value'].fillna(0, inplace=True)\n",
    "receipt['FX Rate'].fillna(0, inplace=True)\n",
    "\n",
    "receipt = receipt.fillna('-')\n",
    "\n",
    "# Create Nota BM&F cumulative sum\n",
    "receipt['TLV Cum Sum'] = receipt['Total Liquidating Value'].cumsum()\n",
    "receipt['FX Value Cum Sum'] = receipt['FX Value'].cumsum()\n",
    "\n",
    "# Create Settlement cumulative sum\n",
    "receipt['Settlement Cum Sum'] = receipt['Total Liquidating Value'].shift(1)\n",
    "receipt['Settlement Cum Sum'] = receipt['Settlement Cum Sum'].fillna(0) + receipt['FX Value']\n",
    "receipt['Settlement Cum Sum'] = receipt['Settlement Cum Sum'].cumsum()\n",
    "\n",
    "# Create total vector\n",
    "receipt['Total Cum Sum'] = receipt['Total Liquidating Value'] + receipt['FX Value']\n",
    "\n",
    "# Apply cumulative sum to total vector\n",
    "receipt['Total Cum Sum'] = receipt['Total Cum Sum'].cumsum()"
   ]
  },
  {
   "cell_type": "code",
   "execution_count": 49,
   "metadata": {
    "ExecuteTime": {
     "end_time": "2021-03-11T12:58:09.484929Z",
     "start_time": "2021-03-11T12:58:09.453016Z"
    }
   },
   "outputs": [],
   "source": [
    "# Create button and output\n",
    "button_receipt = widgets.Button(description='Submmit',\n",
    "                                tooltip = 'OK',\n",
    "                                icon='check',\n",
    "                                button_style = 'success')\n",
    "\n",
    "# Create button output\n",
    "output_receipt = widgets.Output()\n",
    "\n",
    "# Create button and output\n",
    "button_receipt_clean = widgets.Button(description='Clean',\n",
    "                                      tooltip = 'OK',\n",
    "                                      icon='remove',\n",
    "                                      button_style = 'danger')\n",
    "\n",
    "# Create button output\n",
    "output_receipt_clean = widgets.Output()\n",
    "\n",
    "# Unite buttons\n",
    "ui = widgets.HBox([button_receipt, button_receipt_clean])\n",
    "\n",
    "# Diplay buttons\n",
    "#display(ui)"
   ]
  },
  {
   "cell_type": "code",
   "execution_count": null,
   "metadata": {},
   "outputs": [],
   "source": [
    "# Create vector with financial\n",
    "data = ['Total Liquidating Value', 'FX Description', 'FX Value', 'FX Rate', 'Comm', 'Exc Fee']\n",
    "\n",
    "# Create checkbox financial\n",
    "receipt_checkboxes_financial = [widgets.Checkbox(value=False, indent=False, description=label) for label in data]\n",
    "\n",
    "# Create checkbox financial horizontal box\n",
    "receipt_hbox_financial = widgets.HBox(children=receipt_checkboxes_financial, layout=Layout(width='700px'))"
   ]
  },
  {
   "cell_type": "code",
   "execution_count": 44,
   "metadata": {
    "ExecuteTime": {
     "end_time": "2021-03-11T12:56:09.393408Z",
     "start_time": "2021-03-11T12:56:09.284263Z"
    }
   },
   "outputs": [],
   "source": [
    "# Create vector with cumsum\n",
    "data = ['TLV Cum Sum', 'FX Value Cum Sum', 'Total Cum Sum', 'Settlement Cum Sum']\n",
    "\n",
    "# Create checkbox cumsum\n",
    "receipt_checkboxes_cumsum = [widgets.Checkbox(value=False, indent=False, description=label) for label in data]\n",
    "\n",
    "# Create checkbox cumsum horizontal box\n",
    "receipt_hbox_cumsum = widgets.HBox(children=receipt_checkboxes_cumsum, layout=Layout(width='700px'))"
   ]
  },
  {
   "cell_type": "code",
   "execution_count": 46,
   "metadata": {
    "ExecuteTime": {
     "end_time": "2021-03-11T12:56:09.735821Z",
     "start_time": "2021-03-11T12:56:09.659506Z"
    }
   },
   "outputs": [],
   "source": [
    "# Create button clicked function\n",
    "def receipt_on_click(b):\n",
    "    with output_receipt:\n",
    "        \n",
    "        # Clean output\n",
    "        clear_output()\n",
    "        \n",
    "        # Create receipt dataframe\n",
    "        df = receipt\n",
    "        \n",
    "        # Create selected_data list\n",
    "        selected_data = []\n",
    "        \n",
    "        # Add fixed variables\n",
    "        selected_data = selected_data + ['Date']\n",
    "                    \n",
    "        # Loop operation filter\n",
    "        for i in range(0, len(receipt_checkboxes_financial)):\n",
    "                if receipt_checkboxes_financial[i].value == True:\n",
    "                    selected_data = selected_data + [receipt_checkboxes_financial[i].description]\n",
    "                    \n",
    "        # Loop operation filter\n",
    "        for j in range(0, len(receipt_checkboxes_cumsum)):\n",
    "                if receipt_checkboxes_cumsum[j].value == True:\n",
    "                    selected_data = selected_data + [receipt_checkboxes_cumsum[j].description]\n",
    "                    \n",
    "        # Filter selected data\n",
    "        df = df[selected_data]\n",
    "  \n",
    "        # Transform into date type\n",
    "        df['Date'] = pd.to_datetime(df['Date'], format='%d/%m/%Y')\n",
    "        \n",
    "        # Apply filter\n",
    "        df = df[(df['Date'] >=  pd.Timestamp(begin_receipt.value)) & (df['Date'] <= pd.Timestamp(end_receipt.value))] \n",
    "        \n",
    "        # Sort by date\n",
    "        df = df.sort_values(by = 'Date')\n",
    "        \n",
    "        # Refine date\n",
    "        df['Date'] = df['Date'].dt.strftime('%d/%m/%Y')\n",
    "        \n",
    "        # Reset index\n",
    "        df = df.reset_index(drop =True)\n",
    "        \n",
    "        # Red column vector\n",
    "        red_col = ['Nota BM&F', 'FX Value', 'Nota BM&F Cum Sum', 'FX Value Cum Sum', 'Settlement Cum Sum']\n",
    "        \n",
    "        # Create auxiliar variable\n",
    "        aux = []\n",
    "        \n",
    "        # Loop to define red columns\n",
    "        for i in range(0,len(red_col)):\n",
    "            if(red_col[i] in df.columns):\n",
    "                aux.append(red_col[i])\n",
    "        if aux == []:\n",
    "            \n",
    "            # Print result (without red columns)\n",
    "            display(df.style.set_precision(2))\n",
    "            \n",
    "        else:\n",
    "            \n",
    "            # Print result (with red columns)\n",
    "            display(df.style.applymap(color_negative_red, subset=pd.IndexSlice[:, aux]).set_precision(2))\n",
    "        \n",
    "# Create button clicked function\n",
    "def receipt_clean_on_click(b):\n",
    "    with output_receipt_clean:\n",
    "        \n",
    "        # Clear output_receipt\n",
    "        output_receipt.clear_output()"
   ]
  },
  {
   "cell_type": "code",
   "execution_count": 47,
   "metadata": {
    "ExecuteTime": {
     "end_time": "2021-03-11T12:56:09.813040Z",
     "start_time": "2021-03-11T12:56:09.736818Z"
    }
   },
   "outputs": [],
   "source": [
    "# On button click\n",
    "button_receipt.on_click(receipt_on_click)\n",
    "button_receipt_clean.on_click(receipt_clean_on_click)"
   ]
  },
  {
   "cell_type": "code",
   "execution_count": 48,
   "metadata": {
    "ExecuteTime": {
     "end_time": "2021-03-11T12:56:09.922334Z",
     "start_time": "2021-03-11T12:56:09.813917Z"
    }
   },
   "outputs": [
    {
     "data": {
      "application/vnd.jupyter.widget-view+json": {
       "model_id": "024eee59233c4767b48c71b3a6f0cfa5",
       "version_major": 2,
       "version_minor": 0
      },
      "text/plain": [
       "VBox(children=(Tab(children=(VBox(children=(HTML(value='<h2> Select Financial variable: </h2>'), HBox(children…"
      ]
     },
     "metadata": {},
     "output_type": "display_data"
    }
   ],
   "source": [
    "# Create trades analysis table tab\n",
    "table_tab_receipt = widgets.VBox(children=[\n",
    "    widgets.HTML('<h2> Select Financial variable: </h2>'),\n",
    "    receipt_hbox_financial,\n",
    "    widgets.HTML('<h2> Select Cumulative Sum: </h2>'),\n",
    "    receipt_hbox_cumsum,\n",
    "    widgets.HTML('<br>'),\n",
    "    button_receipt, \n",
    "    button_receipt_clean,\n",
    "    output_receipt\n",
    "])\n",
    "\n",
    "# Create trade analysis visualization tab\n",
    "viz_tab_receipt = widgets.VBox(children=[\n",
    "    widgets.HTML('Test'),\n",
    "    out1\n",
    "    \n",
    "])\n",
    "\n",
    "# Plot tab\n",
    "tab_receipt = widgets.Tab(children=[table_tab_receipt, viz_tab_receipt])\n",
    "tab_receipt.set_title(0, 'Table')\n",
    "tab_receipt.set_title(1, 'Visualization')\n",
    "widgets.VBox(children=[tab_receipt])"
   ]
  }
 ],
 "metadata": {
  "kernelspec": {
   "display_name": "Python 3",
   "language": "python",
   "name": "python3"
  },
  "language_info": {
   "codemirror_mode": {
    "name": "ipython",
    "version": 3
   },
   "file_extension": ".py",
   "mimetype": "text/x-python",
   "name": "python",
   "nbconvert_exporter": "python",
   "pygments_lexer": "ipython3",
   "version": "3.8.5"
  },
  "varInspector": {
   "cols": {
    "lenName": 16,
    "lenType": 16,
    "lenVar": 40
   },
   "kernels_config": {
    "python": {
     "delete_cmd_postfix": "",
     "delete_cmd_prefix": "del ",
     "library": "var_list.py",
     "varRefreshCmd": "print(var_dic_list())"
    },
    "r": {
     "delete_cmd_postfix": ") ",
     "delete_cmd_prefix": "rm(",
     "library": "var_list.r",
     "varRefreshCmd": "cat(var_dic_list()) "
    }
   },
   "types_to_exclude": [
    "module",
    "function",
    "builtin_function_or_method",
    "instance",
    "_Feature"
   ],
   "window_display": false
  }
 },
 "nbformat": 4,
 "nbformat_minor": 4
}
