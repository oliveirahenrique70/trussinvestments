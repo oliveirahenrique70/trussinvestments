{
 "cells": [
  {
   "cell_type": "markdown",
   "metadata": {},
   "source": [
    "<center><h1> Truss Investment </h1></center>\n",
    "<center><h1> Trades Finantial Data Analysis </h1></center>\n",
    "  \n",
    "### 18 January 2021 \n",
    "---\n",
    "\n",
    "## Introduction\n",
    "\n",
    "The report will analyse the **Truss Investments** trades executed during the period from July 2020 to December 2020. It will be displayed different finantial variables from the trades, for example:\n",
    "\n",
    "* Hold Position\n",
    "* Market to Market Profit and Loss\n",
    "* Gross Profit and Loss\n",
    "* Comm\n",
    "* Avarege Weekly Traded Volume\n",
    "* Exange Fee\n",
    "* Net Profit and Loss"
   ]
  },
  {
   "cell_type": "code",
   "execution_count": null,
   "metadata": {},
   "outputs": [],
   "source": [
    "# Load libraries\n",
    "import pandas as pd\n",
    "import ipywidgets as widgets"
   ]
  },
  {
   "cell_type": "code",
   "execution_count": 2,
   "metadata": {
    "ExecuteTime": {
     "end_time": "2021-02-02T11:20:28.783675Z",
     "start_time": "2021-02-02T11:20:28.761544Z"
    }
   },
   "outputs": [
    {
     "data": {
      "application/vnd.jupyter.widget-view+json": {
       "model_id": "65009c7a9b884e93872dc6ecc80a1896",
       "version_major": 2,
       "version_minor": 0
      },
      "text/plain": [
       "BoundedIntText(value=7, description='Value:', max=10)"
      ]
     },
     "metadata": {},
     "output_type": "display_data"
    }
   ],
   "source": [
    "boundint = widgets.BoundedIntText(\n",
    "    value = 7,\n",
    "    max = 10,\n",
    "    min = 0,\n",
    "    step = 1,\n",
    "    description = 'Value:')\n",
    "\n",
    "display(boundint)"
   ]
  },
  {
   "cell_type": "code",
   "execution_count": 3,
   "metadata": {
    "ExecuteTime": {
     "end_time": "2021-02-02T11:20:28.866273Z",
     "start_time": "2021-02-02T11:20:28.788614Z"
    }
   },
   "outputs": [
    {
     "name": "stdout",
     "output_type": "stream",
     "text": [
      "7\n"
     ]
    }
   ],
   "source": [
    "print(boundint.value)"
   ]
  },
  {
   "cell_type": "code",
   "execution_count": 4,
   "metadata": {
    "ExecuteTime": {
     "end_time": "2021-02-02T11:20:28.956167Z",
     "start_time": "2021-02-02T11:20:28.871258Z"
    }
   },
   "outputs": [],
   "source": [
    "outs = widgets.Output()\n",
    "\n",
    "\n",
    "def on_button_clicked(b):\n",
    "    with outs:        \n",
    "        #clear_output()\n",
    "        print(int('{}'.format(boundint.value)))"
   ]
  },
  {
   "cell_type": "code",
   "execution_count": 5,
   "metadata": {
    "ExecuteTime": {
     "end_time": "2021-02-02T11:20:29.097710Z",
     "start_time": "2021-02-02T11:20:28.959535Z"
    }
   },
   "outputs": [
    {
     "data": {
      "application/vnd.jupyter.widget-view+json": {
       "model_id": "e4bb9dd9a0b248e8a45ad76f535bdd97",
       "version_major": 2,
       "version_minor": 0
      },
      "text/plain": [
       "Button(description='Clique Aqui', style=ButtonStyle(), tooltip='OK')"
      ]
     },
     "metadata": {},
     "output_type": "display_data"
    },
    {
     "data": {
      "application/vnd.jupyter.widget-view+json": {
       "model_id": "843d5254331844788940e178ac2ff886",
       "version_major": 2,
       "version_minor": 0
      },
      "text/plain": [
       "Output()"
      ]
     },
     "metadata": {},
     "output_type": "display_data"
    }
   ],
   "source": [
    "wbutton = widgets.Button(\n",
    "    description='Clique Aqui',\n",
    "    tooltip = 'OK')\n",
    "\n",
    "output = widgets.Output()\n",
    "\n",
    "wbutton.on_click(on_button_clicked)\n",
    "\n",
    "display(wbutton)\n",
    "display(outs)"
   ]
  },
  {
   "cell_type": "code",
   "execution_count": 6,
   "metadata": {
    "ExecuteTime": {
     "end_time": "2021-02-02T11:20:29.196396Z",
     "start_time": "2021-02-02T11:20:29.100781Z"
    }
   },
   "outputs": [
    {
     "data": {
      "application/vnd.jupyter.widget-view+json": {
       "model_id": "e4bb9dd9a0b248e8a45ad76f535bdd97",
       "version_major": 2,
       "version_minor": 0
      },
      "text/plain": [
       "Button(description='Clique Aqui', style=ButtonStyle(), tooltip='OK')"
      ]
     },
     "metadata": {},
     "output_type": "display_data"
    },
    {
     "data": {
      "application/vnd.jupyter.widget-view+json": {
       "model_id": "27aadd5a8bdd4fb8a09434f0628e81db",
       "version_major": 2,
       "version_minor": 0
      },
      "text/plain": [
       "Output()"
      ]
     },
     "metadata": {},
     "output_type": "display_data"
    }
   ],
   "source": [
    "wbutton.on_click(on_button_clicked)\n",
    "\n",
    "display(wbutton,output)"
   ]
  }
 ],
 "metadata": {
  "kernelspec": {
   "display_name": "Python 3",
   "language": "python",
   "name": "python3"
  },
  "language_info": {
   "codemirror_mode": {
    "name": "ipython",
    "version": 3
   },
   "file_extension": ".py",
   "mimetype": "text/x-python",
   "name": "python",
   "nbconvert_exporter": "python",
   "pygments_lexer": "ipython3",
   "version": "3.8.5"
  },
  "varInspector": {
   "cols": {
    "lenName": 16,
    "lenType": 16,
    "lenVar": 40
   },
   "kernels_config": {
    "python": {
     "delete_cmd_postfix": "",
     "delete_cmd_prefix": "del ",
     "library": "var_list.py",
     "varRefreshCmd": "print(var_dic_list())"
    },
    "r": {
     "delete_cmd_postfix": ") ",
     "delete_cmd_prefix": "rm(",
     "library": "var_list.r",
     "varRefreshCmd": "cat(var_dic_list()) "
    }
   },
   "types_to_exclude": [
    "module",
    "function",
    "builtin_function_or_method",
    "instance",
    "_Feature"
   ],
   "window_display": false
  }
 },
 "nbformat": 4,
 "nbformat_minor": 4
}
