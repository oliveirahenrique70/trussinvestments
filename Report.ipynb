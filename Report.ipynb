{
 "cells": [
  {
   "cell_type": "markdown",
   "metadata": {},
   "source": [
    "<center><h1> Truss Investment </h1></center>\n",
    "<center><h1> Trades Data Analysis Report</h1></center>\n",
    "  \n",
    "### February 2021 \n",
    "---"
   ]
  },
  {
   "cell_type": "markdown",
   "metadata": {
    "ExecuteTime": {
     "end_time": "2021-02-04T11:56:35.730948Z",
     "start_time": "2021-02-04T11:56:35.716974Z"
    }
   },
   "source": [
    "## Report Summary \n",
    "\n",
    "[Introduction](#Introduction)\n",
    "\n",
    "[Data Table](#Data-Table)\n",
    "\n",
    "[Time Series](#Time-Series)\n",
    "\n",
    "---"
   ]
  },
  {
   "cell_type": "markdown",
   "metadata": {},
   "source": [
    "## Introduction\n",
    "\n",
    "This report will analyze the Truss Investments trades executed during the period from July 2020 to February 2021. \n",
    "\n",
    "This report is **interactive**. Therefore you are allowed to make multiple analysis using filters to selects specific data to examine.\n",
    "\n",
    "The report can display these financial variables results of the trades:\n",
    "\n",
    "* Hold Position (*Hold Pos*)\n",
    "* Market to Market Profit and Loss\n",
    "* Gross Profit and Loss\n",
    "* Comm\n",
    "* Avarege Weekly Traded Volume (*ADV*)\n",
    "* Exange Fee (*Exc Fee*)\n",
    "* Net Profit and Loss\n",
    "\n",
    "The trades available for the analysis are:"
   ]
  },
  {
   "cell_type": "code",
   "execution_count": null,
   "metadata": {
    "ExecuteTime": {
     "end_time": "2021-02-23T14:05:56.846214Z",
     "start_time": "2021-02-23T14:05:56.560683Z"
    }
   },
   "outputs": [],
   "source": [
    "# Load libraries\n",
    "import glob\n",
    "import pandas as pd\n",
    "import ipywidgets as widgets\n",
    "from ipywidgets import Layout\n",
    "from IPython.display import clear_output, display, HTML\n",
    "import datetime as dt\n",
    "from datetime import datetime\n",
    "from datetime import date\n",
    "\n",
    "# Supress warning\n",
    "pd.options.mode.chained_assignment = None\n",
    "\n",
    "# Display all rows\n",
    "pd.set_option('display.max_rows', 500)\n",
    "\n",
    "# Display options\n",
    "pd.set_option('display.float_format', lambda x: '%.3f' % x)"
   ]
  },
  {
   "cell_type": "code",
   "execution_count": null,
   "metadata": {
    "ExecuteTime": {
     "end_time": "2021-02-23T14:05:56.893597Z",
     "start_time": "2021-02-23T14:05:56.848417Z"
    }
   },
   "outputs": [],
   "source": [
    "# Get files names\n",
    "all_files = glob.glob('*.csv')\n",
    "\n",
    "# Create list of dfs\n",
    "list_of_dfs = [\n",
    "    pd.read_csv(filename, index_col=None, error_bad_lines=False, sep=',')\n",
    "    for filename in all_files]"
   ]
  },
  {
   "cell_type": "code",
   "execution_count": null,
   "metadata": {
    "ExecuteTime": {
     "end_time": "2021-02-23T14:05:56.970786Z",
     "start_time": "2021-02-23T14:05:56.895593Z"
    }
   },
   "outputs": [],
   "source": [
    "# Print Trades Names\n",
    "trades_list = ['\\033[30;1m' + x[:-4] for x in all_files]\n",
    "\n",
    "trades_list \n",
    "\n",
    "print( *trades_list, sep = ', ')"
   ]
  },
  {
   "cell_type": "markdown",
   "metadata": {},
   "source": [
    "Initially, you need to chose the trade and period you want to analize.\n",
    "\n",
    "### Select trade:"
   ]
  },
  {
   "cell_type": "code",
   "execution_count": null,
   "metadata": {
    "ExecuteTime": {
     "end_time": "2021-02-23T14:05:57.095976Z",
     "start_time": "2021-02-23T14:05:56.973647Z"
    }
   },
   "outputs": [],
   "source": [
    "# Create trades dropdown menu\n",
    "tradesmenu = widgets.Dropdown(\n",
    "    options=['DOLG21','DOLQ20','DOLU20','INDG21','INDJ21','ISPH21','ISPM21','ISPU20','ISPZ20','WDOF21','WDOG21','WDOQ20','WDOU20','WSPH21','WSPU20','WSPZ20'],\n",
    "    value='ISPH21',\n",
    "    description='Trade:',\n",
    "    disabled=False,\n",
    ")\n",
    "\n",
    "# Print tradesmenu\n",
    "display(tradesmenu)"
   ]
  },
  {
   "cell_type": "markdown",
   "metadata": {},
   "source": [
    "### Select period:"
   ]
  },
  {
   "cell_type": "code",
   "execution_count": null,
   "metadata": {
    "ExecuteTime": {
     "end_time": "2021-02-23T14:06:31.681700Z",
     "start_time": "2021-02-23T14:06:31.653774Z"
    }
   },
   "outputs": [],
   "source": [
    "# Get start and end date\n",
    "today = date.today()\n",
    "begin_date = datetime.datetime(2020, 7, 1).date()\n",
    "\n",
    "# Create begin date picker\n",
    "begin_trade = widgets.DatePicker(\n",
    "        description='Start:',\n",
    "        value = begin_date,\n",
    "        disabled=False)\n",
    "\n",
    "# Create end date picker\n",
    "end_trade = widgets.DatePicker(\n",
    "      description='End',\n",
    "      value = today,\n",
    "      disabled=False)\n",
    "\n",
    "# Display date \n",
    "display(begin_trade, end_trade)"
   ]
  },
  {
   "cell_type": "markdown",
   "metadata": {},
   "source": [
    "---\n",
    "\n",
    "## Data Table\n",
    "\n",
    "A visualization of the trades data table will begin the data analysis part of the report. Use the following filters to select which operation and financial variable from the trade you want to exam.\n",
    "\n",
    "### Select operation:"
   ]
  },
  {
   "cell_type": "code",
   "execution_count": null,
   "metadata": {
    "ExecuteTime": {
     "end_time": "2021-02-23T14:06:34.574428Z",
     "start_time": "2021-02-23T14:06:34.547499Z"
    }
   },
   "outputs": [],
   "source": [
    "data = [\"Buy Quant\", \"Buy Price\", \"Sell Quant\", \"Sell Price\"]\n",
    "checkboxes_operation = [widgets.Checkbox(value=False, indent=False, description=label) for label in data]\n",
    "hbox_operation = widgets.HBox(children=checkboxes_operation, layout=Layout(width='500px'))\n",
    "display(hbox_operation)"
   ]
  },
  {
   "cell_type": "markdown",
   "metadata": {},
   "source": [
    "### Select financial:"
   ]
  },
  {
   "cell_type": "code",
   "execution_count": null,
   "metadata": {
    "ExecuteTime": {
     "end_time": "2021-02-23T14:06:37.796261Z",
     "start_time": "2021-02-23T14:06:37.758407Z"
    }
   },
   "outputs": [],
   "source": [
    "data = [\"Hold Pos\", \"MtoM P&L\", \"Gross P&L\", \"Comm\", \"Exc Fee\", \"Net Prof Loss\"]\n",
    "checkboxes_financial = [widgets.Checkbox(value=False, indent=False, description=label) for label in data]\n",
    "hbox_financial = widgets.HBox(children=checkboxes_financial, layout=Layout(width='600px'))\n",
    "display(hbox_financial)"
   ]
  },
  {
   "cell_type": "markdown",
   "metadata": {},
   "source": [
    "Click on the button to submmit the **Data Table** analysis:"
   ]
  },
  {
   "cell_type": "code",
   "execution_count": null,
   "metadata": {
    "ExecuteTime": {
     "end_time": "2021-02-23T14:06:39.801387Z",
     "start_time": "2021-02-23T14:06:39.772444Z"
    }
   },
   "outputs": [],
   "source": [
    "# Create button and output\n",
    "button_trade = widgets.Button(\n",
    "    description='Submmit',\n",
    "    tooltip = 'OK',\n",
    "    icon='check',\n",
    "    button_style = 'success')\n",
    "\n",
    "# Create button output\n",
    "output_trade = widgets.Output()\n",
    "\n",
    "# Create button and output\n",
    "button_trade_clean = widgets.Button(\n",
    "    description='Clean',\n",
    "    tooltip = 'OK',\n",
    "    icon='remove',\n",
    "    button_style = 'danger')\n",
    "\n",
    "# Create button output\n",
    "output_trade_clean = widgets.Output()\n",
    "\n",
    "# Unite buttons\n",
    "ui = widgets.HBox([button_trade, button_trade_clean])\n",
    "\n",
    "# Diplay buttons\n",
    "display(ui)"
   ]
  },
  {
   "cell_type": "code",
   "execution_count": 14,
   "metadata": {
    "ExecuteTime": {
     "end_time": "2021-02-23T14:10:52.680113Z",
     "start_time": "2021-02-23T14:10:52.653186Z"
    }
   },
   "outputs": [
    {
     "data": {
      "application/vnd.jupyter.widget-view+json": {
       "model_id": "f34d109aeaef490fb63e6d8a43c14817",
       "version_major": 2,
       "version_minor": 0
      },
      "text/plain": [
       "Output()"
      ]
     },
     "metadata": {},
     "output_type": "display_data"
    },
    {
     "data": {
      "application/vnd.jupyter.widget-view+json": {
       "model_id": "61c588b92d364083b711e09c2be6e57f",
       "version_major": 2,
       "version_minor": 0
      },
      "text/plain": [
       "Output()"
      ]
     },
     "metadata": {},
     "output_type": "display_data"
    }
   ],
   "source": [
    "# Button clicked output\n",
    "display(output_trade, output_trade_clean)\n",
    "\n",
    "# Fixede variables\n",
    "fixed = ['Date', 'Ticker']\n",
    "\n",
    "# Create button clicked function\n",
    "def trade_on_clicked(b):  \n",
    "    with output_trade:\n",
    "        \n",
    "        # Clean output\n",
    "        clear_output()\n",
    "        \n",
    "        # Create selected_data list\n",
    "        selected_data = []\n",
    "        \n",
    "        # Add fixed variables\n",
    "        selected_data = selected_data + fixed\n",
    "        \n",
    "        # If loop\n",
    "        if tradesmenu.value == 'ISPU20':\n",
    "            trades = 1\n",
    "        \n",
    "        if tradesmenu.value == 'DOLQ20':\n",
    "            trades = 2\n",
    "            \n",
    "        if tradesmenu.value == 'DOLU20':\n",
    "            trades = 4\n",
    "            \n",
    "        if tradesmenu.value == 'INDG21':\n",
    "            trades = 0\n",
    "            \n",
    "        if tradesmenu.value == 'INDJ21':\n",
    "            trades = 3\n",
    "            \n",
    "        if tradesmenu.value == 'ISPM21':\n",
    "            trades = 5\n",
    "        \n",
    "        if tradesmenu.value == 'WDOU20':\n",
    "            trades = 6\n",
    "        \n",
    "        if tradesmenu.value == 'WSPH21':\n",
    "            trades = 7\n",
    "        \n",
    "        if tradesmenu.value == 'ISPH21':\n",
    "            trades = 9\n",
    "        \n",
    "        if tradesmenu.value == 'WDOQ20':\n",
    "            trades = 10\n",
    "        \n",
    "        if tradesmenu.value == 'WDOF21':\n",
    "            trades = 11\n",
    "        \n",
    "        if tradesmenu.value == 'WSPZ20':\n",
    "            trades = 12\n",
    "        \n",
    "        if tradesmenu.value == 'WDOG21':\n",
    "            trades = 13\n",
    "        \n",
    "        if tradesmenu.value == 'WSPU20':\n",
    "            trades = 14\n",
    "        \n",
    "        if tradesmenu.value == 'ISPZ20':\n",
    "            trades = 15\n",
    "        \n",
    "        if tradesmenu.value == 'DOLG21':\n",
    "            trades = 16\n",
    "        \n",
    "        # Loop operation filter\n",
    "        for i in range(0, len(checkboxes_operation)):\n",
    "                if checkboxes_operation[i].value == True:\n",
    "                    selected_data = selected_data + [checkboxes_operation[i].description]\n",
    "        \n",
    "        # Loop financial filter\n",
    "        for j in range(0, len(checkboxes_financial)):\n",
    "                if checkboxes_financial[j].value == True:\n",
    "                    selected_data = selected_data + [checkboxes_financial[j].description]\n",
    "                    \n",
    "        # Create dataframe\n",
    "        df = list_of_dfs[trades]\n",
    "                \n",
    "        # Round values\n",
    "        df = df.round({'Px Close':2, 'Sell Price':2, 'Buy Price': 2, 'Exc Fee':2, 'MtoM P&L':2, 'Gross P&L': 2, 'Net P&L': 2, 'Comm': 2})\n",
    "        \n",
    "        # Change columns type\n",
    "        df = df.astype({'Sell Quant': int, 'Buy Quant': int, 'Hold Pos': int})\n",
    "        \n",
    "        # Filter data\n",
    "        df = df[selected_data] \n",
    "               \n",
    "        # Transform into date type\n",
    "        df['Date'] = pd.to_datetime(df['Date'], format='%d/%m/%Y')\n",
    "        \n",
    "        # Refine end recipt date\n",
    "        end = datetime.strftime(end_receipt.value, '%d/%m/%Y')\n",
    "        \n",
    "        # Refine begin receipt date\n",
    "        begin = datetime.strftime(begin_receipt.value, '%d/%m/%Y')\n",
    "        \n",
    "        # Apply filter\n",
    "        df = df[(df['Date'] >= begin) & (df['Date'] <= end)]   \n",
    "        \n",
    "        # Sort by date\n",
    "        df = df.sort_values(by = 'Date')\n",
    "        \n",
    "        # Refine date\n",
    "        df['Date'] = df['Date'].dt.strftime('%d/%m/%Y')\n",
    "\n",
    "        # Reset index\n",
    "        df = df.reset_index(drop = True)\n",
    "        \n",
    "        # Create red columns vactor\n",
    "        red_col = ['MtoM P&L' , 'Gross P&L', 'Net P&L', 'Hold Pos']\n",
    "       \n",
    "        # Create auxiliar variable\n",
    "        aux = []\n",
    "        \n",
    "        # Loop to define red columns\n",
    "        for i in range(0,len(red_col)):\n",
    "            if(red_col[i] in df.columns):\n",
    "                aux.append(red_col[i])\n",
    "        if aux == []:\n",
    "            \n",
    "            # Print result (without red columns)\n",
    "            display(df.style.set_precision(2))\n",
    "            \n",
    "        else:\n",
    "            \n",
    "            # Print result (with red columns)\n",
    "            display(df.style.applymap(color_negative_red, subset=pd.IndexSlice[:, aux]).set_precision(2))\n",
    "            \n",
    "# Create clean button function\n",
    "def trade_clean_on_clicked(b):  \n",
    "    with output_trade_clean:\n",
    "        \n",
    "        # Clean output\n",
    "        output_trade.clear_output()"
   ]
  },
  {
   "cell_type": "code",
   "execution_count": 15,
   "metadata": {
    "ExecuteTime": {
     "end_time": "2021-02-23T14:10:56.819503Z",
     "start_time": "2021-02-23T14:10:56.804542Z"
    }
   },
   "outputs": [
    {
     "ename": "NameError",
     "evalue": "name 'trade_on_clicked' is not defined",
     "output_type": "error",
     "traceback": [
      "\u001b[1;31m---------------------------------------------------------------------------\u001b[0m",
      "\u001b[1;31mNameError\u001b[0m                                 Traceback (most recent call last)",
      "\u001b[1;32m<ipython-input-15-0918ecebc88b>\u001b[0m in \u001b[0;36m<module>\u001b[1;34m\u001b[0m\n\u001b[0;32m      1\u001b[0m \u001b[1;31m# On button click\u001b[0m\u001b[1;33m\u001b[0m\u001b[1;33m\u001b[0m\u001b[1;33m\u001b[0m\u001b[0m\n\u001b[1;32m----> 2\u001b[1;33m \u001b[0mbutton_trade\u001b[0m\u001b[1;33m.\u001b[0m\u001b[0mon_click\u001b[0m\u001b[1;33m(\u001b[0m\u001b[0mtrade_on_clicked\u001b[0m\u001b[1;33m)\u001b[0m\u001b[1;33m\u001b[0m\u001b[1;33m\u001b[0m\u001b[0m\n\u001b[0m\u001b[0;32m      3\u001b[0m \u001b[0mbutton_trade_clean\u001b[0m\u001b[1;33m.\u001b[0m\u001b[0mon_click\u001b[0m\u001b[1;33m(\u001b[0m\u001b[0mtrade_clean_on_clicked\u001b[0m\u001b[1;33m)\u001b[0m\u001b[1;33m\u001b[0m\u001b[1;33m\u001b[0m\u001b[0m\n",
      "\u001b[1;31mNameError\u001b[0m: name 'trade_on_clicked' is not defined"
     ]
    }
   ],
   "source": [
    "# On button click\n",
    "button_trade.on_click(trade_on_clicked)\n",
    "button_trade_clean.on_click(trade_clean_on_clicked)"
   ]
  },
  {
   "cell_type": "markdown",
   "metadata": {},
   "source": [
    "---\n",
    "\n",
    "## Receipt Data Table\n",
    "\n",
    "### Select period:"
   ]
  },
  {
   "cell_type": "code",
   "execution_count": null,
   "metadata": {
    "ExecuteTime": {
     "end_time": "2021-02-23T14:06:45.040303Z",
     "start_time": "2021-02-23T14:06:45.023347Z"
    }
   },
   "outputs": [],
   "source": [
    "# Create begin date picker\n",
    "begin_receipt = widgets.DatePicker(\n",
    "        description='Start:',\n",
    "        value = begin_date,\n",
    "        disabled=False)\n",
    "\n",
    "# Create end date picker\n",
    "end_receipt = widgets.DatePicker(\n",
    "      description='End:',\n",
    "      value = today,\n",
    "      disabled=False)\n",
    "\n",
    "# Display date filter \n",
    "display(begin_receipt, end_receipt)"
   ]
  },
  {
   "cell_type": "markdown",
   "metadata": {},
   "source": [
    "Click on the buttons to submmit or clean the receipt **data table**:"
   ]
  },
  {
   "cell_type": "code",
   "execution_count": null,
   "metadata": {
    "ExecuteTime": {
     "end_time": "2021-02-23T14:06:47.631408Z",
     "start_time": "2021-02-23T14:06:47.612458Z"
    }
   },
   "outputs": [],
   "source": [
    "# Read data\n",
    "receipt = list_of_dfs[8]\n",
    "\n",
    "# Fill missing values \n",
    "receipt['Description'].fillna('-', inplace=True)\n",
    "receipt = receipt.fillna(0)\n",
    "\n",
    "# Cumulative sum\n",
    "receipt['Nota BM&F Cum Sum'] = receipt['Nota BM&F'].cumsum()\n",
    "receipt['FX Value Cum Sum'] = receipt['FX Value'].cumsum()\n",
    "\n",
    "# Create total vector\n",
    "total = receipt['Nota BM&F'] + receipt['FX Value']\n",
    "\n",
    "# Apply cumulative sum to total vector\n",
    "receipt['Total Cum Sum'] = total.cumsum()\n",
    "\n",
    "# Create cum sum variance\n",
    "receipt['Total Cum Sum Var'] = abs((receipt['Total Cum Sum'] .pct_change()) * 100)"
   ]
  },
  {
   "cell_type": "code",
   "execution_count": null,
   "metadata": {
    "ExecuteTime": {
     "end_time": "2021-02-23T14:06:50.306246Z",
     "start_time": "2021-02-23T14:06:50.270348Z"
    }
   },
   "outputs": [],
   "source": [
    "# Create button and output\n",
    "button_receipt = widgets.Button(description='Submmit',\n",
    "                                tooltip = 'OK',\n",
    "                                icon='check',\n",
    "                                button_style = 'success')\n",
    "\n",
    "# Create button output\n",
    "output_receipt = widgets.Output()\n",
    "\n",
    "# Create button and output\n",
    "button_receipt_clean = widgets.Button(description='Clean',\n",
    "                                      tooltip = 'OK',\n",
    "                                      icon='remove',\n",
    "                                      button_style = 'danger')\n",
    "\n",
    "# Create button output\n",
    "output_receipt_clean = widgets.Output()\n",
    "\n",
    "# Unite buttons\n",
    "ui = widgets.HBox([button_receipt, button_receipt_clean])\n",
    "\n",
    "# Diplay buttons\n",
    "display(ui)"
   ]
  },
  {
   "cell_type": "code",
   "execution_count": null,
   "metadata": {
    "ExecuteTime": {
     "end_time": "2021-02-23T12:53:12.411239Z",
     "start_time": "2021-02-23T12:53:12.386345Z"
    }
   },
   "outputs": [],
   "source": [
    "# Button clicked output\n",
    "display(output_receipt, output_receipt_clean)\n",
    "\n",
    "# Create button clicked function\n",
    "def receipt_on_click(b):\n",
    "    with output_receipt:\n",
    "        \n",
    "        # Clean output\n",
    "        clear_output()\n",
    "        \n",
    "        # Create receipt dataframe\n",
    "        df = receipt\n",
    "        \n",
    "        # Transform into date type\n",
    "        df['Date'] = pd.to_datetime(df['Date'], format='%d/%m/%Y')\n",
    "        \n",
    "        # Refine end recipt date\n",
    "        end = datetime.strftime(end_receipt.value, '%d/%m/%Y')\n",
    "        \n",
    "        # Refine begin receipt date\n",
    "        begin = datetime.strftime(begin_receipt.value, '%d/%m/%Y')\n",
    "        \n",
    "        # Apply filter\n",
    "        df = df[(df['Date'] >= begin) & (df['Date'] <= end)]  \n",
    "        \n",
    "        # Sort by date\n",
    "        df = df.sort_values(by = 'Date')\n",
    "        \n",
    "        # Refine date\n",
    "        df['Date'] = df['Date'].dt.strftime('%d/%m/%Y')\n",
    "        \n",
    "        # Reset index\n",
    "        df = df.reset_index(drop =True)\n",
    "        \n",
    "        # Red column vector\n",
    "        red_col = ['Nota BM&F', 'FX Value', 'Nota BM&F Cum Sum', 'FX Value Cum Sum']\n",
    "        \n",
    "        # Print results\n",
    "        display(df.style.applymap(color_negative_red, subset=pd.IndexSlice[:, red_col]).set_precision(2))\n",
    "        \n",
    "# Create button clicked function\n",
    "def receipt_clean_on_click(b):\n",
    "    with output_receipt_clean:\n",
    "        \n",
    "        # Clear output_receipt\n",
    "        output_receipt.clear_output()"
   ]
  },
  {
   "cell_type": "code",
   "execution_count": null,
   "metadata": {
    "ExecuteTime": {
     "end_time": "2021-02-19T19:37:26.457068Z",
     "start_time": "2021-02-19T19:37:26.334867Z"
    }
   },
   "outputs": [],
   "source": [
    "# On button click\n",
    "button_receipt.on_click(receipt_on_click)\n",
    "button_receipt_clean.on_click(receipt_clean_on_click)"
   ]
  }
 ],
 "metadata": {
  "kernelspec": {
   "display_name": "Python 3",
   "language": "python",
   "name": "python3"
  },
  "language_info": {
   "codemirror_mode": {
    "name": "ipython",
    "version": 3
   },
   "file_extension": ".py",
   "mimetype": "text/x-python",
   "name": "python",
   "nbconvert_exporter": "python",
   "pygments_lexer": "ipython3",
   "version": "3.8.5"
  },
  "varInspector": {
   "cols": {
    "lenName": 16,
    "lenType": 16,
    "lenVar": 40
   },
   "kernels_config": {
    "python": {
     "delete_cmd_postfix": "",
     "delete_cmd_prefix": "del ",
     "library": "var_list.py",
     "varRefreshCmd": "print(var_dic_list())"
    },
    "r": {
     "delete_cmd_postfix": ") ",
     "delete_cmd_prefix": "rm(",
     "library": "var_list.r",
     "varRefreshCmd": "cat(var_dic_list()) "
    }
   },
   "types_to_exclude": [
    "module",
    "function",
    "builtin_function_or_method",
    "instance",
    "_Feature"
   ],
   "window_display": false
  }
 },
 "nbformat": 4,
 "nbformat_minor": 4
}
