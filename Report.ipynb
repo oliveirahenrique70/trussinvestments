{
 "cells": [
  {
   "cell_type": "markdown",
   "metadata": {},
   "source": [
    "<center><h1> Truss Investment </h1></center>\n",
    "<center><h1> Trades Data Analysis Report</h1></center>\n",
    "  \n",
    "### February 2021 \n",
    "---"
   ]
  },
  {
   "cell_type": "markdown",
   "metadata": {
    "ExecuteTime": {
     "end_time": "2021-02-04T11:56:35.730948Z",
     "start_time": "2021-02-04T11:56:35.716974Z"
    }
   },
   "source": [
    "## Report Summary \n",
    "\n",
    "[Introduction](#Introduction)\n",
    "\n",
    "[Trades Data Table](#Trades-Data-Table)\n",
    "\n",
    "[Receipt Data Table](#Receipt-Data-Table)\n",
    "\n",
    "---"
   ]
  },
  {
   "cell_type": "markdown",
   "metadata": {},
   "source": [
    "## Introduction\n",
    "\n",
    "This report will analyze the Truss Investments trades executed during the period from July 2020 to February 2021. \n",
    "\n",
    "This report is **interactive**. Therefore you are allowed to make multiple analysis using filters to selects specific data to examine.\n",
    "\n",
    "The report can display these financial variables results of the trades:\n",
    "\n",
    "* Hold Position (*Hold Pos*)\n",
    "* Market to Market Profit and Loss\n",
    "* Gross Profit and Loss\n",
    "* Comm\n",
    "* Avarege Weekly Traded Volume (*ADV*)\n",
    "* Exange Fee (*Exc Fee*)\n",
    "* Net Profit and Loss\n",
    "\n",
    "The trades available for the analysis are:"
   ]
  },
  {
   "cell_type": "code",
   "execution_count": null,
   "metadata": {
    "ExecuteTime": {
     "end_time": "2021-02-08T13:04:24.956649Z",
     "start_time": "2021-02-08T13:04:24.610682Z"
    }
   },
   "outputs": [],
   "source": [
    "# Load libraries\n",
    "import glob\n",
    "import pandas as pd\n",
    "import ipywidgets as widgets\n",
    "from ipywidgets import Layout\n",
    "from IPython.display import clear_output, display, HTML\n",
    "import datetime\n",
    "from datetime import date\n",
    "\n",
    "# Supress warning\n",
    "pd.options.mode.chained_assignment = None\n",
    "\n",
    "# Display all rows\n",
    "pd.set_option('display.max_rows', 500)\n",
    "\n",
    "# Display options\n",
    "pd.set_option('display.float_format', lambda x: '%.3f' % x)"
   ]
  },
  {
   "cell_type": "code",
   "execution_count": null,
   "metadata": {
    "ExecuteTime": {
     "end_time": "2021-02-17T13:30:38.541044Z",
     "start_time": "2021-02-17T13:30:38.399424Z"
    }
   },
   "outputs": [],
   "source": [
    "# Get files names\n",
    "all_files = glob.glob('*.csv')\n",
    "\n",
    "# Remove receipt data\n",
    "all_files = all_files[-1:]\n",
    "\n",
    "# Create list of dfs\n",
    "list_of_dfs = [\n",
    "    pd.read_csv(filename, index_col=None, error_bad_lines=False, sep=',')\n",
    "    for filename in all_files]"
   ]
  },
  {
   "cell_type": "code",
   "execution_count": null,
   "metadata": {
    "ExecuteTime": {
     "end_time": "2021-02-08T13:04:25.079708Z",
     "start_time": "2021-02-08T13:04:24.987724Z"
    }
   },
   "outputs": [],
   "source": [
    "# Print Trades Names\n",
    "trades_list = ['\\033[30;1m' + x[:-4] for x in all_files]\n",
    "\n",
    "trades_list \n",
    "\n",
    "print( *trades_list, sep = ', ')"
   ]
  },
  {
   "cell_type": "markdown",
   "metadata": {},
   "source": [
    "Initially, you need to chose the trade and period you want to analize.\n",
    "\n",
    "### Select trade:"
   ]
  },
  {
   "cell_type": "code",
   "execution_count": null,
   "metadata": {
    "ExecuteTime": {
     "end_time": "2021-02-08T13:04:25.190191Z",
     "start_time": "2021-02-08T13:04:25.083696Z"
    }
   },
   "outputs": [],
   "source": [
    "# Create trades dropdown menu\n",
    "tradesmenu = widgets.Dropdown(\n",
    "    options=['DOLG21','DOLQ20','DOLU20','ISPH21','ISPM21','ISPU20','ISPZ20','WDOF21','WDOG21','WDOQ20','WDOU20','WSPH21','WSPU20','WSPZ20'],\n",
    "    value='ISPH21',\n",
    "    description='Trade:',\n",
    "    disabled=False,\n",
    ")\n",
    "\n",
    "# Print tradesmenu\n",
    "display(tradesmenu)"
   ]
  },
  {
   "cell_type": "markdown",
   "metadata": {},
   "source": [
    "### Select period:"
   ]
  },
  {
   "cell_type": "code",
   "execution_count": null,
   "metadata": {
    "ExecuteTime": {
     "end_time": "2021-02-08T13:04:25.347490Z",
     "start_time": "2021-02-08T13:04:25.191187Z"
    }
   },
   "outputs": [],
   "source": [
    "# Get start and end date\n",
    "today = date.today()\n",
    "begin_date = datetime.datetime(2020, 7, 1).date()\n",
    "\n",
    "# Create begin date picker\n",
    "begin = widgets.DatePicker(\n",
    "        description='Start:',\n",
    "        value = begin_date,\n",
    "        disabled=False)\n",
    "\n",
    "# Create end date picker\n",
    "end = widgets.DatePicker(\n",
    "      description='End',\n",
    "      value = today,\n",
    "      disabled=False)\n",
    "\n",
    "# Display date \n",
    "display(begin, end)"
   ]
  },
  {
   "cell_type": "markdown",
   "metadata": {},
   "source": [
    "---\n",
    "\n",
    "## Data Table\n",
    "\n",
    "A visualization of the trades data table will begin the data analysis part of the report. Use the following filters to select which operation and financial variable from the trade you want to exam.\n",
    "\n",
    "### Select operation:"
   ]
  },
  {
   "cell_type": "code",
   "execution_count": null,
   "metadata": {
    "ExecuteTime": {
     "end_time": "2021-02-08T13:04:25.578710Z",
     "start_time": "2021-02-08T13:04:25.441604Z"
    }
   },
   "outputs": [],
   "source": [
    "data = [\"Buy Quant\", \"Buy Price\", \"Sell Quant\", \"Sell Price\"]\n",
    "checkboxes_operation = [widgets.Checkbox(value=False, indent=False, description=label) for label in data]\n",
    "hbox_operation = widgets.HBox(children=checkboxes_operation, layout=Layout(width='500px'))\n",
    "display(hbox_operation)"
   ]
  },
  {
   "cell_type": "markdown",
   "metadata": {},
   "source": [
    "### Select financial:"
   ]
  },
  {
   "cell_type": "code",
   "execution_count": null,
   "metadata": {
    "ExecuteTime": {
     "end_time": "2021-02-08T13:04:25.688692Z",
     "start_time": "2021-02-08T13:04:25.580668Z"
    }
   },
   "outputs": [],
   "source": [
    "data = [\"Hold Pos\", \"MtoM P&L\", \"Gross P&L\", \"Comm\", \"Exc Fee\", \"Net Prof Loss\"]\n",
    "checkboxes_financial = [widgets.Checkbox(value=False, indent=False, description=label) for label in data]\n",
    "hbox_financial = widgets.HBox(children=checkboxes_financial, layout=Layout(width='600px'))\n",
    "display(hbox_financial)"
   ]
  },
  {
   "cell_type": "markdown",
   "metadata": {},
   "source": [
    "Click on the button to submmit the **Data Table** analysis:"
   ]
  },
  {
   "cell_type": "code",
   "execution_count": null,
   "metadata": {
    "ExecuteTime": {
     "end_time": "2021-02-08T13:04:25.781475Z",
     "start_time": "2021-02-08T13:04:25.690663Z"
    }
   },
   "outputs": [],
   "source": [
    "# Create button and output\n",
    "wbutton = widgets.Button(\n",
    "    description='Submmit',\n",
    "    tooltip = 'OK',\n",
    "    icon='check',\n",
    "    button_style = 'success')\n",
    "\n",
    "# Diplay button and output\n",
    "display(wbutton)"
   ]
  },
  {
   "cell_type": "code",
   "execution_count": null,
   "metadata": {
    "ExecuteTime": {
     "end_time": "2021-02-08T13:04:30.488175Z",
     "start_time": "2021-02-08T13:04:30.475245Z"
    }
   },
   "outputs": [],
   "source": [
    "# Button clicked output\n",
    "output = widgets.Output()\n",
    "display(output)\n",
    "\n",
    "# Fixede variables\n",
    "fixed = ['Date', 'Ticker']\n",
    "\n",
    "# Create button clicked function\n",
    "def on_button_clicked(b):  \n",
    "    with output:\n",
    "        clear_output()\n",
    "        trades = 0\n",
    "        selected_data = []\n",
    "        selected_data = selected_data + fixed\n",
    "        \n",
    "        # ISPH21\n",
    "        if tradesmenu.value == 'ISPU20':\n",
    "            trades = 0\n",
    "        \n",
    "        if tradesmenu.value == 'DOLQ20':\n",
    "            trades = 1\n",
    "            \n",
    "        if tradesmenu.value == 'DOLU20':\n",
    "            trades = 2\n",
    "            \n",
    "        if tradesmenu.value == 'ISPM21':\n",
    "            trades = 3\n",
    "        \n",
    "        if tradesmenu.value == 'WDOU20':\n",
    "            trades = 4\n",
    "        \n",
    "        if tradesmenu.value == 'WSPH21':\n",
    "            trades = 5\n",
    "        \n",
    "        if tradesmenu.value == 'ISPH21':\n",
    "            trades = 6\n",
    "        \n",
    "        if tradesmenu.value == 'WDOQ20':\n",
    "            trades = 7\n",
    "        \n",
    "        if tradesmenu.value == 'WDOF21':\n",
    "            trades = 8\n",
    "        \n",
    "        if tradesmenu.value == 'WSPZ20':\n",
    "            trades = 9\n",
    "        \n",
    "        if tradesmenu.value == 'WDOG21':\n",
    "            trades = 10\n",
    "        \n",
    "        if tradesmenu.value == 'WSPU20':\n",
    "            trades = 11\n",
    "        \n",
    "        if tradesmenu.value == 'ISPZ20':\n",
    "            trades = 12\n",
    "        \n",
    "        if tradesmenu.value == 'DOLG21':\n",
    "            trades = 13\n",
    "        \n",
    "        # Loop operation filter\n",
    "        for i in range(0, len(checkboxes_operation)):\n",
    "                if checkboxes_operation[i].value == True:\n",
    "                    selected_data = selected_data + [checkboxes_operation[i].description]\n",
    "        \n",
    "        # Loop financial filter\n",
    "        for j in range(0, len(checkboxes_financial)):\n",
    "                if checkboxes_financial[j].value == True:\n",
    "                    selected_data = selected_data + [checkboxes_financial[j].description]\n",
    "                    \n",
    "                # Print results\n",
    "                \n",
    "        # Create dataframe\n",
    "        df = list_of_dfs[trades][selected_data]\n",
    "\n",
    "        # Transform into date type\n",
    "        df['Date'] = pd.to_datetime(df['Date']).apply(lambda x: x.date())\n",
    "\n",
    "        # Apply filter\n",
    "        df = df[(df['Date'] >= begin.value) & (df['Date'] <= end.value)]   \n",
    "        \n",
    "        # Adjust Date variable\n",
    "        df['Date'] = pd.to_datetime(df['Date'], format = '%Y-%m-%d')\n",
    "        \n",
    "        # Sort by date\n",
    "        df = df.sort_values(by = 'Date')\n",
    "        \n",
    "        # Refine date\n",
    "        df['Date'] = df['Date'].dt.strftime('%d/%m/%Y')\n",
    "       \n",
    "        # Print results\n",
    "        display(HTML(df.to_html()))"
   ]
  },
  {
   "cell_type": "code",
   "execution_count": null,
   "metadata": {
    "ExecuteTime": {
     "end_time": "2021-02-08T13:04:26.062087Z",
     "start_time": "2021-02-08T13:04:25.955778Z"
    }
   },
   "outputs": [],
   "source": [
    "wbutton.on_click(on_button_clicked)"
   ]
  },
  {
   "cell_type": "markdown",
   "metadata": {},
   "source": [
    "---\n",
    "\n",
    "## Receipt Data Table\n",
    "\n",
    "### Select period:"
   ]
  },
  {
   "cell_type": "code",
   "execution_count": null,
   "metadata": {
    "ExecuteTime": {
     "end_time": "2021-02-17T13:22:40.626652Z",
     "start_time": "2021-02-17T13:22:40.598717Z"
    }
   },
   "outputs": [],
   "source": [
    "### Select period:\n",
    "\n",
    "# Get start and end date\n",
    "today = date.today()\n",
    "begin_date = datetime.datetime(2020, 7, 1).date()\n",
    "\n",
    "# Create begin date picker\n",
    "begin = widgets.DatePicker(\n",
    "        description='Start:',\n",
    "        value = begin_date,\n",
    "        disabled=False)\n",
    "\n",
    "# Create end date picker\n",
    "end = widgets.DatePicker(\n",
    "      description='End',\n",
    "      value = today,\n",
    "      disabled=False)\n",
    "\n",
    "# Display date \n",
    "display(begin, end)"
   ]
  },
  {
   "cell_type": "code",
   "execution_count": null,
   "metadata": {
    "ExecuteTime": {
     "end_time": "2021-02-17T13:09:33.169520Z",
     "start_time": "2021-02-17T13:09:33.093387Z"
    }
   },
   "outputs": [],
   "source": [
    "# Read data\n",
    "receipt = pd.read_csv('Dataset_Recibos.csv', sep =';')"
   ]
  },
  {
   "cell_type": "code",
   "execution_count": null,
   "metadata": {
    "ExecuteTime": {
     "end_time": "2021-02-17T13:20:35.771412Z",
     "start_time": "2021-02-17T13:20:35.751298Z"
    }
   },
   "outputs": [],
   "source": [
    "receipt['cum_sum'] = receipt['Nota BM&F'].cumsum()\n",
    "receipt['cum_sum_var'] = abs((receipt['cum_sum'] .pct_change()) * 100)\n",
    "receipt['cum_perc'] = 100 * receipt['cum_sum']/ receipt['Nota BM&F'].sum()\n",
    "\n",
    "receipt"
   ]
  },
  {
   "cell_type": "markdown",
   "metadata": {},
   "source": [
    "---\n",
    "\n",
    "## Time Series"
   ]
  }
 ],
 "metadata": {
  "kernelspec": {
   "display_name": "Python 3",
   "language": "python",
   "name": "python3"
  },
  "language_info": {
   "codemirror_mode": {
    "name": "ipython",
    "version": 3
   },
   "file_extension": ".py",
   "mimetype": "text/x-python",
   "name": "python",
   "nbconvert_exporter": "python",
   "pygments_lexer": "ipython3",
   "version": "3.8.5"
  },
  "varInspector": {
   "cols": {
    "lenName": 16,
    "lenType": 16,
    "lenVar": 40
   },
   "kernels_config": {
    "python": {
     "delete_cmd_postfix": "",
     "delete_cmd_prefix": "del ",
     "library": "var_list.py",
     "varRefreshCmd": "print(var_dic_list())"
    },
    "r": {
     "delete_cmd_postfix": ") ",
     "delete_cmd_prefix": "rm(",
     "library": "var_list.r",
     "varRefreshCmd": "cat(var_dic_list()) "
    }
   },
   "types_to_exclude": [
    "module",
    "function",
    "builtin_function_or_method",
    "instance",
    "_Feature"
   ],
   "window_display": false
  }
 },
 "nbformat": 4,
 "nbformat_minor": 4
}
