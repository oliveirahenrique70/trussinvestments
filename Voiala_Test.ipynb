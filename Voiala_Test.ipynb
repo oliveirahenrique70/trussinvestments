{
 "cells": [
  {
   "cell_type": "code",
   "execution_count": 7,
   "metadata": {
    "ExecuteTime": {
     "end_time": "2021-02-01T22:09:36.158900Z",
     "start_time": "2021-02-01T22:09:36.152639Z"
    }
   },
   "outputs": [],
   "source": [
    "# Load libraries\n",
    "import pandas as pd\n",
    "import ipywidgets as widgets\n",
    "from ipywidgets import interact"
   ]
  },
  {
   "cell_type": "code",
   "execution_count": 8,
   "metadata": {
    "ExecuteTime": {
     "end_time": "2021-02-01T22:09:36.376068Z",
     "start_time": "2021-02-01T22:09:36.161533Z"
    }
   },
   "outputs": [
    {
     "data": {
      "application/vnd.jupyter.widget-view+json": {
       "model_id": "3bbd089463704108abaf92a9a838d7e9",
       "version_major": 2,
       "version_minor": 0
      },
      "text/plain": [
       "BoundedIntText(value=7, description='Value:', max=10)"
      ]
     },
     "metadata": {},
     "output_type": "display_data"
    }
   ],
   "source": [
    "boundint = widgets.BoundedIntText(\n",
    "    value = 7,\n",
    "    max = 10,\n",
    "    min = 0,\n",
    "    step = 1,\n",
    "    description = 'Value:')\n",
    "\n",
    "display(boundint)"
   ]
  },
  {
   "cell_type": "code",
   "execution_count": 9,
   "metadata": {
    "ExecuteTime": {
     "end_time": "2021-02-01T22:09:36.471880Z",
     "start_time": "2021-02-01T22:09:36.384135Z"
    }
   },
   "outputs": [
    {
     "name": "stdout",
     "output_type": "stream",
     "text": [
      "7\n"
     ]
    }
   ],
   "source": [
    "print(boundint.value)"
   ]
  },
  {
   "cell_type": "code",
   "execution_count": 10,
   "metadata": {
    "ExecuteTime": {
     "end_time": "2021-02-01T22:09:36.580184Z",
     "start_time": "2021-02-01T22:09:36.480099Z"
    }
   },
   "outputs": [],
   "source": [
    "outs = widgets.Output()\n",
    "\n",
    "\n",
    "def on_button_clicked(b):\n",
    "    with outs:        \n",
    "        #clear_output()\n",
    "        print(int('{}'.format(boundint.value)))"
   ]
  },
  {
   "cell_type": "code",
   "execution_count": 11,
   "metadata": {
    "ExecuteTime": {
     "end_time": "2021-02-01T22:09:36.681018Z",
     "start_time": "2021-02-01T22:09:36.581228Z"
    }
   },
   "outputs": [
    {
     "data": {
      "application/vnd.jupyter.widget-view+json": {
       "model_id": "8c57141e359649539aa0fc3a2fe9f663",
       "version_major": 2,
       "version_minor": 0
      },
      "text/plain": [
       "Button(description='Clique Aqui', style=ButtonStyle(), tooltip='OK')"
      ]
     },
     "metadata": {},
     "output_type": "display_data"
    },
    {
     "data": {
      "application/vnd.jupyter.widget-view+json": {
       "model_id": "e40b126ab347461bbfb9acfa884ba085",
       "version_major": 2,
       "version_minor": 0
      },
      "text/plain": [
       "Output()"
      ]
     },
     "metadata": {},
     "output_type": "display_data"
    }
   ],
   "source": [
    "wbutton = widgets.Button(\n",
    "    description='Clique Aqui',\n",
    "    tooltip = 'OK')\n",
    "\n",
    "output = widgets.Output()\n",
    "\n",
    "wbutton.on_click(on_button_clicked)\n",
    "\n",
    "display(wbutton)\n",
    "display(outs)"
   ]
  },
  {
   "cell_type": "code",
   "execution_count": 12,
   "metadata": {
    "ExecuteTime": {
     "end_time": "2021-02-01T22:09:36.778786Z",
     "start_time": "2021-02-01T22:09:36.686061Z"
    }
   },
   "outputs": [
    {
     "data": {
      "application/vnd.jupyter.widget-view+json": {
       "model_id": "8c57141e359649539aa0fc3a2fe9f663",
       "version_major": 2,
       "version_minor": 0
      },
      "text/plain": [
       "Button(description='Clique Aqui', style=ButtonStyle(), tooltip='OK')"
      ]
     },
     "metadata": {},
     "output_type": "display_data"
    },
    {
     "data": {
      "application/vnd.jupyter.widget-view+json": {
       "model_id": "3ec57e1e714b43c3a416500317f889e3",
       "version_major": 2,
       "version_minor": 0
      },
      "text/plain": [
       "Output()"
      ]
     },
     "metadata": {},
     "output_type": "display_data"
    }
   ],
   "source": [
    "wbutton.on_click(on_button_clicked)\n",
    "\n",
    "display(wbutton,output)"
   ]
  }
 ],
 "metadata": {
  "kernelspec": {
   "display_name": "Python 3",
   "language": "python",
   "name": "python3"
  },
  "language_info": {
   "codemirror_mode": {
    "name": "ipython",
    "version": 3
   },
   "file_extension": ".py",
   "mimetype": "text/x-python",
   "name": "python",
   "nbconvert_exporter": "python",
   "pygments_lexer": "ipython3",
   "version": "3.8.5"
  },
  "varInspector": {
   "cols": {
    "lenName": 16,
    "lenType": 16,
    "lenVar": 40
   },
   "kernels_config": {
    "python": {
     "delete_cmd_postfix": "",
     "delete_cmd_prefix": "del ",
     "library": "var_list.py",
     "varRefreshCmd": "print(var_dic_list())"
    },
    "r": {
     "delete_cmd_postfix": ") ",
     "delete_cmd_prefix": "rm(",
     "library": "var_list.r",
     "varRefreshCmd": "cat(var_dic_list()) "
    }
   },
   "types_to_exclude": [
    "module",
    "function",
    "builtin_function_or_method",
    "instance",
    "_Feature"
   ],
   "window_display": false
  }
 },
 "nbformat": 4,
 "nbformat_minor": 4
}
